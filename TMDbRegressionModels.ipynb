{
 "cells": [
  {
   "cell_type": "code",
   "execution_count": null,
   "metadata": {},
   "outputs": [],
   "source": [
    "# Imports"
   ]
  },
  {
   "cell_type": "code",
   "execution_count": 1,
   "metadata": {},
   "outputs": [
    {
     "name": "stdout",
     "output_type": "stream",
     "text": [
      "Populating the interactive namespace from numpy and matplotlib\n"
     ]
    }
   ],
   "source": [
    "%pylab inline\n",
    "%matplotlib inline\n",
    "from matplotlib import pyplot as plt\n",
    "from pyspark.mllib.regression import LabeledPoint\n",
    "import numpy as np\n",
    "from pyspark.ml import Pipeline\n",
    "from pyspark.ml.evaluation import RegressionEvaluator\n",
    "from pyspark.ml.tuning import CrossValidator, ParamGridBuilder\n",
    "from pyspark.ml.linalg import Vectors\n",
    "from pyspark.mllib.tree import DecisionTree, DecisionTreeModel\n",
    "from pyspark.mllib.tree import GradientBoostedTrees, GradientBoostedTreesModel\n",
    "from pyspark.mllib.regression import LabeledPoint, LinearRegressionWithSGD, LinearRegressionModel\n",
    "from pyspark.ml.regression import LinearRegression"
   ]
  },
  {
   "cell_type": "code",
   "execution_count": 2,
   "metadata": {},
   "outputs": [],
   "source": [
    "# Load the data into Resilient Distributed Datasets (RDD)"
   ]
  },
  {
   "cell_type": "code",
   "execution_count": 4,
   "metadata": {},
   "outputs": [
    {
     "name": "stdout",
     "output_type": "stream",
     "text": [
      "First record:  ['Action|Adventure|Science Fiction|Thriller', '2015', '32.985763', '150000000', '124', '5562', '6.5', '1513528810']\n",
      "Total number of records:  10866\n"
     ]
    }
   ],
   "source": [
    "path = \"/regression-models/Movie_TMDb/tmdb-movies-final-features-no-header.csv\"\n",
    "raw_data = sc.textFile(path)\n",
    "num_data = raw_data.count()\n",
    "records = raw_data.map(lambda x: x.split(\",\"))\n",
    "first = records.first()\n",
    "print('First record: ', first)\n",
    "print('Total number of records: ', num_data)\n"
   ]
  },
  {
   "cell_type": "code",
   "execution_count": null,
   "metadata": {},
   "outputs": [],
   "source": [
    "# Cache the results"
   ]
  },
  {
   "cell_type": "code",
   "execution_count": 5,
   "metadata": {},
   "outputs": [
    {
     "data": {
      "text/plain": [
       "PythonRDD[7] at RDD at PythonRDD.scala:48"
      ]
     },
     "execution_count": 5,
     "metadata": {},
     "output_type": "execute_result"
    }
   ],
   "source": [
    "records.cache()"
   ]
  },
  {
   "cell_type": "code",
   "execution_count": 7,
   "metadata": {},
   "outputs": [],
   "source": [
    "# extract each categorical feature into a binary vector form, \n",
    "# we will need to know the feature mapping of each feature value to the index of the nonzero value \n",
    "# in our binary vector"
   ]
  },
  {
   "cell_type": "code",
   "execution_count": 8,
   "metadata": {},
   "outputs": [],
   "source": [
    "def get_mappings(rdd, idx):\n",
    "    print('index:', idx)\n",
    "    return rdd.map(lambda fields: fields[idx]).distinct().zipWithIndex().collectAsMap()"
   ]
  },
  {
   "cell_type": "code",
   "execution_count": 9,
   "metadata": {},
   "outputs": [],
   "source": [
    "# We have two categorical features\n",
    "# 1. genres, is at index : 0\n",
    "# 2. release_year is at index :  1"
   ]
  },
  {
   "cell_type": "code",
   "execution_count": 10,
   "metadata": {},
   "outputs": [
    {
     "name": "stdout",
     "output_type": "stream",
     "text": [
      "index: 0\n",
      "Mapping of first categorical feasture column: {'Adventure|Science Fiction|Thriller': 0, 'Western|Drama|Adventure|Thriller': 1, 'Drama|Adventure|Science Fiction': 2, 'Family|Animation|Adventure|Comedy': 3, 'Science Fiction|Fantasy|Action|Adventure': 4, 'Action|Comedy|Science Fiction': 5, 'Action|Adventure|Science Fiction': 6, 'Crime|Action|Thriller': 7, 'Romance|Fantasy|Family|Drama': 8, 'War|Adventure|Science Fiction': 9, 'Action|Family|Science Fiction|Adventure|Mystery': 10, 'Action|Drama': 11, 'Action|Drama|Thriller': 12, 'Drama|Romance': 13, 'Action': 14, 'Drama|Thriller|History': 15, 'Mystery|Drama': 16, 'Crime|Action|Science Fiction': 17, 'Comedy|Music': 18, 'Adventure|Horror|Comedy': 19, 'Crime|Drama|Mystery': 20, 'Action|Crime|Drama|Mystery|Thriller': 21, 'Fantasy|Drama|Romance': 22, 'Thriller|Comedy|Drama|Romance|Science Fiction': 23, 'Romance|Drama': 24, 'Drama': 25, 'Comedy|Adventure': 26, 'Action|Comedy|Crime': 27, 'Romance|Comedy|Crime|Drama': 28, 'Thriller|Drama|Adventure|Action|History': 29, 'Thriller': 30, 'Action|Adventure|Fantasy': 31, 'Animation|Comedy|Family': 32, 'Family|Comedy': 33, 'Horror|Thriller': 34, 'Horror': 35, 'Drama|Romance|Science Fiction': 36, 'Thriller|Mystery': 37, 'Adventure|Animation|Fantasy': 38, 'Romance|Comedy': 39, 'Adventure|Animation|Family': 40, 'Action|Drama|Science Fiction': 41, 'Thriller|Action': 42, 'Comedy|Horror': 43, 'Drama|Mystery|Thriller': 44, 'Comedy|Action': 45, 'Action|Fantasy|Adventure': 46, 'Science Fiction|Thriller': 47, 'Comedy|Science Fiction': 48, 'Mystery|Thriller|Fantasy|Horror|Drama': 49, 'Comedy|Drama|Music': 50, 'Family|Animation': 51, 'Adventure|Drama|Family': 52, 'Family|Animation|Comedy|Adventure': 53, 'Animation|Comedy|Drama|Romance': 54, 'Horror|Western|Adventure|Drama': 55, 'Horror|Thriller|Comedy|Crime': 56, 'Action|Adventure': 57, 'Drama|History': 58, 'Action|Comedy|Science Fiction|Fantasy': 59, 'Crime|Drama|Mystery|Thriller': 60, 'Drama|Comedy': 61, 'Drama|Action|Crime|Thriller': 62, 'Adventure|Action|Comedy': 63, 'Music|Action|Adventure|Comedy|Family': 64, 'Music|Romance|Comedy': 65, 'Action|Adventure|Animation|Family': 66, 'Action|Animation|Science Fiction': 67, 'Animation|Comedy|Family|Adventure': 68, 'Thriller|Horror': 69, 'Mystery|Science Fiction|Thriller': 70, 'Animation|Comedy|Family|Fantasy|Music': 71, 'Thriller|Science Fiction': 72, 'Drama|Horror|Science Fiction': 73, 'Mystery|Drama|Horror': 74, 'Adventure|Documentary': 75, 'War|Drama': 76, 'Animation|Adventure|Comedy': 77, 'Documentary': 78, 'Horror|TV Movie': 79, 'Adventure|Science Fiction|Action': 80, 'TV Movie': 81, 'Music|Drama|Crime|Comedy': 82, 'Horror|Science Fiction': 83, 'Action|Animation|Fantasy': 84, 'Thriller|Drama|Horror': 85, 'Family|Science Fiction|Action|Adventure': 86, 'Drama|Music|Adventure|Fantasy': 87, 'Action|Horror|Thriller': 88, 'Family|TV Movie': 89, 'Crime|Horror|Thriller': 90, 'Thriller|Drama|Comedy': 91, 'Family|TV Movie|Animation': 92, 'Science Fiction|Action': 93, 'Adventure|Action': 94, 'Science Fiction|Action|Horror': 95, 'Thriller|Action|Horror': 96, 'Science Fiction|Drama|Family': 97, 'Drama|Romance|Comedy': 98, 'Adventure|Action|Comedy|Science Fiction': 99, 'Animation|Music|Family': 100, 'Animation|Documentary': 101, 'Science Fiction|Thriller|Fantasy': 102, 'Action|Science Fiction': 103, 'Action|Animation|Family': 104, 'Action|Adventure|Science Fiction|Romance': 105, 'Science Fiction|Horror': 106, 'Drama|History|Romance': 107, 'Drama|Music|TV Movie': 108, 'Family|Adventure': 109, 'Romance|Comedy|Drama': 110, 'Mystery|Drama|Thriller': 111, 'TV Movie|Horror|Science Fiction': 112, 'Drama|Crime': 113, 'Drama|Thriller|Mystery': 114, 'Horror|Science Fiction|Thriller': 115, 'History|Documentary|Family': 116, 'Music|Comedy|Drama': 117, 'History|Crime|Drama': 118, 'Fantasy|Drama': 119, '': 120, 'Crime|Action': 121, 'Science Fiction|Drama|Thriller': 122, 'Comedy|TV Movie|Romance': 123, 'Thriller|Horror|Science Fiction': 124, 'Romance|Music|TV Movie|Comedy': 125, 'Thriller|Crime': 126, 'Drama|Thriller|Science Fiction': 127, 'Thriller|Action|Adventure|Crime': 128, 'Thriller|Horror|Mystery': 129, 'Romance|Drama|Music': 130, 'Horror|Documentary': 131, 'Romance|Comedy|Drama|Mystery': 132, 'Thriller|Mystery|Drama|Horror': 133, 'Thriller|TV Movie|Science Fiction|Drama': 134, 'Thriller|Mystery|Horror|Fantasy': 135, 'Crime|Thriller|Action|Horror': 136, 'Documentary|History': 137, 'Music|Drama': 138, 'Science Fiction|Action|Animation': 139, 'Family|Documentary': 140, 'Animation|Comedy|Science Fiction': 141, 'Science Fiction|Mystery|Horror|Thriller': 142, 'Comedy|Drama|Family': 143, 'Adventure|Drama|Science Fiction': 144, 'Action|Science Fiction|Adventure': 145, 'Adventure|Fantasy': 146, 'Adventure|Family|Animation|Action|Comedy': 147, 'Action|Mystery|Science Fiction|Thriller': 148, 'Adventure|Comedy|Fantasy|Family': 149, 'Science Fiction|Action|Drama|Thriller': 150, 'Action|Comedy': 151, 'Fantasy|Adventure|Action|Family|Romance': 152, 'Adventure|Fantasy|Animation|Comedy|Action': 153, 'Horror|Action|Drama|Fantasy|War': 154, 'Fantasy|Comedy|Music': 155, 'Action|War': 156, 'Science Fiction|Drama': 157, 'Comedy|Romance|Crime|Drama|Mystery': 158, 'Action|Thriller|Mystery': 159, 'Thriller|Science Fiction|Drama|Mystery': 160, 'Animation|Adventure|Family': 161, 'Animation|Adventure|Comedy|Family': 162, 'Music|Comedy|Drama|Family': 163, 'Animation|Comedy|Family|Fantasy': 164, 'Family|Animation|Fantasy': 165, 'Action|Drama|Thriller|Crime': 166, 'Thriller|Action|Drama|War': 167, 'Drama|Fantasy|Mystery|Romance': 168, 'Mystery|Thriller|Action': 169, 'Science Fiction|TV Movie': 170, 'Thriller|Animation|Action|Crime': 171, 'Horror|Comedy|Thriller': 172, 'Thriller|Drama|Action|Mystery': 173, 'Thriller|Crime|Horror': 174, 'Thriller|Crime|Drama|Mystery': 175, 'Drama|Comedy|Science Fiction': 176, 'Music|Documentary|Drama': 177, 'Family|Drama': 178, 'Horror|Fantasy|Thriller': 179, 'Action|Comedy|Thriller': 180, 'Family': 181, 'Adventure|Animation|Family|Fantasy': 182, 'Action|Fantasy|Comedy|Horror|Mystery': 183, 'Romance|Action|Comedy': 184, 'Drama|Action|Crime': 185, 'Crime|Comedy': 186, 'Comedy|Romance|Music': 187, 'Romance': 188, 'Action|Comedy|Crime|Thriller': 189, 'Horror|Romance': 190, 'TV Movie|Romance|Family': 191, 'Western|Action|Drama|Science Fiction': 192, 'Crime|Drama|Family|Romance': 193, 'Drama|Thriller|Action': 194, 'Drama|Mystery|Thriller|TV Movie': 195, 'Science Fiction': 196, 'Action|Comedy|Horror': 197, 'Comedy|Family|Romance': 198, 'War|Adventure': 199, 'TV Movie|Documentary': 200, 'Thriller|Drama|Crime|Mystery': 201, 'Drama|Western': 202, 'Adventure|Science Fiction|Fantasy|Family': 203, 'Family|Fantasy|Comedy|Romance': 204, 'Animation|Science Fiction|Action': 205, 'Animation|Comedy|Family|Mystery': 206, 'History|Documentary|Animation': 207, 'Adventure|Animation|Science Fiction': 208, 'Adventure|Animation|Action': 209, 'Action|Animation': 210, 'Drama|Documentary|Comedy': 211, 'Drama|Fantasy|Romance': 212, 'Science Fiction|Adventure|Drama|Fantasy': 213, 'Romance|Drama|Fantasy': 214, 'Thriller|Drama|Crime': 215, 'Thriller|Science Fiction|Horror': 216, 'Mystery|Thriller|Horror': 217, 'History|Crime|Horror|Documentary': 218, 'Comedy|Family': 219, 'Thriller|Drama|Horror|Mystery': 220, 'Comedy|Animation': 221, 'Family|Fantasy|Horror': 222, 'Comedy|Documentary': 223, 'Thriller|Crime|Action|Drama': 224, 'Mystery|Drama|Fantasy': 225, 'Fantasy|Family|Animation|Adventure': 226, 'Romance|Comedy|Family|Action|Adventure': 227, 'Action|Adventure|Family|Fantasy|Science Fiction': 228, 'Fantasy|Drama|Horror|Thriller': 229, 'Drama|Mystery': 230, 'Western': 231, 'Drama|Adventure|Horror': 232, 'Action|Thriller|Adventure': 233, 'Science Fiction|Horror|Thriller': 234, 'Horror|Drama|Mystery': 235, 'Drama|Action|Thriller|War': 236, 'Fantasy|Action|Adventure|Science Fiction|Thriller': 237, 'Adventure|Fantasy|Family': 238, 'Drama|Action|Thriller|Science Fiction': 239, 'Adventure|Drama|Action|Comedy|Thriller': 240, 'Action|Mystery|Science Fiction': 241, 'Adventure|Fantasy|Drama|Romance': 242, 'Adventure|Action|Thriller|Science Fiction': 243, 'Comedy|Mystery': 244, 'Action|Horror|Mystery|Science Fiction|Thriller': 245, 'Fantasy|Comedy|Romance': 246, 'Comedy|Family|Animation|Fantasy|Music': 247, 'Drama|Horror|Mystery|Thriller': 248, 'Adventure|Family|Fantasy|Science Fiction|Thriller': 249, 'Drama|Romance|Fantasy': 250, 'Thriller|Mystery|Adventure': 251, 'Action|Crime|Mystery|Thriller': 252, 'Comedy|War': 253, 'Comedy|Drama|Family|Music': 254, 'Science Fiction|Thriller|Drama|Crime': 255, 'Fantasy|Drama|Thriller': 256, 'Horror|Action|Thriller': 257, 'Adventure|Fantasy|Animation|Family': 258, 'Drama|Action|Comedy|Thriller|Crime': 259, 'Adventure|Drama|History': 260, 'Animation|Comedy|Drama': 261, 'Adventure|Fantasy|Mystery': 262, 'Crime|Drama|Horror|Mystery|Thriller': 263, 'Adventure|Fantasy|Action|Thriller': 264, 'Animation|Action|Science Fiction': 265, 'Animation|Action|Family|Science Fiction': 266, 'Action|Adventure|Crime|Drama|Thriller': 267, 'Adventure|Comedy|Family|Fantasy|Science Fiction': 268, 'Drama|Foreign|Mystery': 269, 'War|Drama|History|Thriller': 270, 'Action|Adventure|Animation|Science Fiction': 271, 'Mystery|Animation|Comedy|Fantasy': 272, 'Fantasy': 273, 'Action|Drama|Crime|Thriller': 274, 'Science Fiction|Animation|Comedy': 275, 'Science Fiction|Adventure|Animation|Action|Family': 276, 'Action|Drama|Foreign|Thriller': 277, 'Drama|Action|Thriller': 278, 'Animation|Drama|Science Fiction|Thriller': 279, 'Drama|Romance|Foreign': 280, 'Adventure|Fantasy|Action|Science Fiction': 281, 'TV Movie|Animation|Family|Comedy': 282, 'Drama|Romance|Science Fiction|Thriller': 283, 'Drama|Adventure|Romance': 284, 'Action|Crime|Mystery': 285, 'Drama|Thriller|Romance': 286, 'Fantasy|Drama|Science Fiction': 287, 'Comedy|Drama|Family|Fantasy': 288, 'Horror|Drama|Thriller': 289, 'Action|Adventure|Fantasy|Science Fiction|Thriller': 290, 'Comedy|Crime': 291, 'War|Action|Thriller': 292, 'Animation|Horror|Action': 293, 'Drama|Romance|Thriller': 294, 'Comedy|Fantasy|Romance|TV Movie': 295, 'Action|Animation|Fantasy|Science Fiction': 296, 'Comedy|Romance|Family': 297, 'Action|Adventure|Drama|Family': 298, 'Animation|Horror|Action|Comedy': 299, 'Fantasy|Drama|Comedy|Science Fiction|Romance': 300, 'Comedy|Thriller|Mystery': 301, 'Action|Comedy|Horror|Science Fiction': 302, 'Action|Fantasy': 303, 'Action|Foreign|Horror|Thriller': 304, 'Documentary|Comedy': 305, 'Action|Thriller|Horror': 306, 'Drama|Family|Foreign': 307, 'Music|Comedy': 308, 'Drama|Foreign': 309, 'Crime|Mystery|Thriller': 310, 'Action|Adventure|Comedy|Science Fiction': 311, 'Drama|Horror|Thriller|Foreign': 312, 'Drama|Foreign|Romance|Thriller': 313, 'Documentary|Drama|Foreign': 314, 'Action|Thriller|Science Fiction|Mystery|Adventure': 315, 'Family|Fantasy|Adventure': 316, 'Fantasy|Adventure|Animation|Family': 317, 'Action|Crime': 318, 'Adventure|Fantasy|Action': 319, 'Action|Science Fiction|Adventure|Thriller': 320, 'Thriller|Action|Adventure|Comedy|Crime': 321, 'Action|Adventure|Comedy|Crime|Thriller': 322, 'Action|Adventure|Family|Fantasy': 323, 'Drama|Adventure|History': 324, 'Action|Science Fiction|Thriller|Crime': 325, 'Animation|Adventure|Family|Fantasy': 326, 'Horror|Crime': 327, 'Romance|Drama|Thriller|Crime': 328, 'Science Fiction|Comedy|Adventure': 329, 'Adventure|Comedy|Drama': 330, 'Comedy|Family|Fantasy': 331, 'TV Movie|Drama|Comedy|Music|Romance': 332, 'Horror|Thriller|Drama': 333, 'Comedy|Drama|Fantasy|Horror|Mystery': 334, 'Drama|Fantasy': 335, 'Action|Adventure|Foreign|Thriller': 336, 'Action|Thriller|Western': 337, 'TV Movie|Animation|Fantasy': 338, 'Crime|Drama|Thriller|History': 339, 'Adventure|Comedy|Family|Fantasy': 340, 'Drama|Family|Romance': 341, 'Mystery|Horror|Action': 342, 'Comedy|Romance|TV Movie': 343, 'Comedy|Family|Animation|Adventure': 344, 'Comedy|Action|Drama': 345, 'Romance|Science Fiction': 346, 'Animation|Fantasy': 347, 'Adventure|Fantasy|Animation|Action|Thriller': 348, 'Animation|Action': 349, 'Action|Comedy|Drama|Mystery|Thriller': 350, 'Animation|Action|Thriller|Science Fiction': 351, 'TV Movie|Science Fiction': 352, 'Action|Thriller|Science Fiction|Foreign': 353, 'Action|Comedy|Horror|Mystery|Science Fiction': 354, 'Animation|Horror|Science Fiction': 355, 'Drama|Horror|Action|Thriller|Science Fiction': 356, 'Animation|Action|Western': 357, 'Adventure|Fantasy|Action|Western|Thriller': 358, 'Action|Comedy|Drama': 359, 'Adventure|Drama|History|Romance': 360, 'Family|Drama|Romance|Comedy': 361, 'Documentary|Foreign': 362, 'Drama|Action|Thriller|Crime': 363, 'Drama|Action|Thriller|Foreign': 364, 'Action|Adventure|Animation|Fantasy|Horror': 365, 'Thriller|War': 366, 'Comedy|Thriller|Crime': 367, 'Family|Fantasy|Horror|TV Movie': 368, 'Comedy|Documentary|Drama': 369, 'Drama|Comedy|History|Family': 370, 'Action|Drama|Family|Thriller': 371, 'Drama|Romance|Foreign|Comedy': 372, 'Action|Horror|Science Fiction|Thriller': 373, 'Action|Foreign': 374, 'TV Movie|Fantasy|Comedy|Romance|Family': 375, 'Drama|Fantasy|Thriller|Mystery': 376, 'Romance|Drama|Mystery': 377, 'Crime|Adventure|Action|Comedy|Science Fiction': 378, 'Action|Fantasy|Horror|Mystery': 379, 'Fantasy|Comedy|Adventure': 380, 'Horror|Thriller|Fantasy|Mystery': 381, 'Adventure|Fantasy|Action|Comedy|Science Fiction': 382, 'Crime|Comedy|Thriller': 383, 'Music|Family|Comedy': 384, 'Drama|Comedy|Crime|Romance': 385, 'Thriller|Action|Comedy|Crime': 386, 'Comedy|Romance|Science Fiction': 387, 'Drama|Action|Thriller|Crime|Mystery': 388, 'Adventure|Fantasy|Animation|Science Fiction|Mystery': 389, 'Thriller|Comedy|Horror': 390, 'Action|Drama|Romance': 391, 'Thriller|Drama|Crime|Romance': 392, 'Comedy|Crime|Thriller': 393, 'Action|Mystery|Thriller': 394, 'Adventure|Drama|Action|History|War': 395, 'Family|Drama|Comedy': 396, 'Drama|War|Romance|Western': 397, 'Animation|Drama|Family': 398, 'Comedy|History': 399, 'Fantasy|Horror|Science Fiction': 400, 'TV Movie|Adventure|Comedy|Family': 401, 'Documentary|Animation': 402, 'TV Movie|Family|Drama': 403, 'TV Movie|Drama|Mystery|Romance': 404, 'Fantasy|Drama|Mystery': 405, 'Fantasy|Animation|Family|Comedy': 406, 'Drama|Science Fiction|Adventure': 407, 'History|Romance|War': 408, 'Action|History|War': 409, 'Adventure|Drama|Romance|Action': 410, 'Drama|Mystery|Romance|Science Fiction|Thriller': 411, 'Adventure|Action|Animation|Fantasy|Science Fiction': 412, 'Drama|Thriller|Mystery|Romance': 413, 'Crime|Mystery|Thriller|Action': 414, 'Comedy|Crime|Mystery': 415, 'Action|Comedy|Horror|Science Fiction|Thriller': 416, 'Crime|Comedy|Romance': 417, 'Action|Drama|War': 418, 'Mystery|Adventure|Comedy|Romance|Drama': 419, 'Action|Adventure|Comedy|Thriller|Crime': 420, 'Comedy|Romance|Crime': 421, 'Drama|Comedy|War|Crime|Thriller': 422, 'Mystery|Drama|Thriller|Romance|War': 423, 'Drama|Family|Romance|Music': 424, 'Action|Comedy|Family|Adventure': 425, 'Comedy|Fantasy|Science Fiction': 426, 'Action|Adventure|Drama|Western': 427, 'Adventure|Fantasy|Comedy|Science Fiction|Romance': 428, 'Drama|History|Romance|War': 429, 'Adventure|Drama|Fantasy': 430, 'Comedy|Family|Fantasy|Science Fiction': 431, 'War|Action|Adventure|Drama|History': 432, 'Action|Comedy|Drama|History': 433, 'TV Movie|Drama|History|War': 434, 'Drama|Mystery|Romance|Thriller': 435, 'Action|Adventure|Horror|Thriller': 436, 'Adventure|Comedy|Drama|Romance': 437, 'Comedy|Drama|Science Fiction': 438, 'Adventure|Family|Fantasy|TV Movie': 439, 'Romance|Drama|Foreign': 440, 'TV Movie|Comedy|Family|Adventure': 441, 'Comedy|Adventure|Romance': 442, 'Fantasy|Drama|Thriller|Mystery|Romance': 443, 'Action|Science Fiction|Adventure|Comedy|Family': 444, 'Action|Adventure|Thriller|Crime': 445, 'Drama|Thriller|History|War': 446, 'Adventure|Action|Drama|Fantasy': 447, 'Fantasy|Action': 448, 'Animation|Family|Adventure|Comedy': 449, 'Adventure|Science Fiction': 450, 'Thriller|Animation|Action|Science Fiction|Adventure': 451, 'Animation|Comedy|Family|Adventure|Fantasy': 452, 'Family|Fantasy|Drama': 453, 'Fantasy|Action|Science Fiction': 454, 'Drama|Mystery|Science Fiction|Thriller': 455, 'Adventure|Fantasy|Drama|Science Fiction|Romance': 456, 'Animation|Family|Adventure|Drama|Fantasy': 457, 'TV Movie|Comedy|Fantasy': 458, 'Comedy|Science Fiction|Adventure|Family': 459, 'Drama|Mystery|Thriller|Romance': 460, 'Adventure|Comedy|Drama|Family': 461, 'Horror|Thriller|Drama|Mystery': 462, 'Action|Family|Science Fiction': 463, 'Action|Adventure|Drama|Foreign|History': 464, 'Action|Adventure|Comedy|Thriller': 465, 'Fantasy|Action|Adventure|Comedy': 466, 'Thriller|Drama|Action|Crime|War': 467, 'Mystery|Drama|Crime|Thriller|Horror': 468, 'Horror|Comedy|Music|Science Fiction': 469, 'Drama|Thriller|Mystery|Horror': 470, 'Adventure|Horror|Action|Science Fiction': 471, 'Action|Adventure|Foreign': 472, 'Action|Fantasy|Horror': 473, 'Drama|Action|Science Fiction|Thriller': 474, 'Comedy|Drama|Foreign|Romance': 475, 'Action|Drama|Foreign|Mystery|Thriller': 476, 'Drama|Horror|Comedy|Thriller|Foreign': 477, 'Horror|Drama|Thriller|Crime': 478, 'Adventure|Drama|Family|Science Fiction': 479, 'Drama|Fantasy|Adventure': 480, 'Thriller|Action|Drama|Science Fiction': 481, 'Adventure|Action|Crime|Mystery': 482, 'Action|Fantasy|Thriller': 483, 'Animation|Family|TV Movie': 484, 'Action|Thriller|Science Fiction|Adventure': 485, 'Animation|Comedy|Family|Western|Adventure': 486, 'Adventure|Action|Thriller|Comedy': 487, 'Drama|Animation|Family|Comedy': 488, 'Thriller|Action|Mystery': 489, 'Action|Adventure|Animation|Family|Fantasy': 490, 'Crime|Adventure|Action|Comedy|Thriller': 491, 'Music|Family|Animation|Comedy': 492, 'Comedy|Fantasy|Family|Music|Animation': 493, 'Animation|Family|Adventure|Comedy|Fantasy': 494, 'Mystery|Comedy|Crime': 495, 'War|Action|Thriller|Drama': 496, 'Comedy|Family|Animation|Fantasy': 497, 'Family|Comedy|Adventure': 498, 'Drama|Crime|History': 499, 'Action|Comedy|Adventure': 500, 'Action|Adventure|Animation|Science Fiction|Crime': 501, 'Animation|Action|Comedy|Family': 502, 'Documentary|Family|Adventure': 503, 'Adventure|Fantasy|Science Fiction|Action': 504, 'Fantasy|Drama|Thriller|Science Fiction': 505, 'Drama|Thriller|Science Fiction|Mystery': 506, 'Fantasy|Animation|Action|Comedy': 507, 'Comedy|Thriller|Action|Drama': 508, 'Comedy|Crime|Drama|Mystery|Thriller': 509, 'Drama|Action|History': 510, 'Comedy|Family|Action': 511, 'Action|Drama|Family|History|War': 512, 'TV Movie|Romance|Drama': 513, 'Action|Fantasy|Science Fiction|Thriller': 514, 'Comedy|Horror|Science Fiction': 515, 'Comedy|Documentary|Music': 516, 'Adventure|Comedy|Horror': 517, 'Documentary|Comedy|Drama': 518, 'Drama|Comedy|Documentary|Romance|Family': 519, 'Fantasy|Comedy|Science Fiction|Romance|Thriller': 520, 'Action|Comedy|Drama|Foreign|Romance': 521, 'Drama|Comedy|Family|Foreign': 522, 'Fantasy|Drama|Science Fiction|Family': 523, 'Drama|Animation': 524, 'Comedy|Music|Romance|Foreign': 525, 'Drama|Documentary|Foreign': 526, 'Science Fiction|Horror|Action|Thriller': 527, 'Drama|History|Crime': 528, 'Crime|Comedy|Family': 529, 'Adventure|Animation|Family|Romance': 530, 'Science Fiction|Comedy|Crime|Action': 531, 'Fantasy|Comedy|Family': 532, 'Mystery|Adventure|Comedy': 533, 'Thriller|Action|Comedy|Science Fiction': 534, 'Thriller|Drama|History': 535, 'Adventure|Fantasy|Science Fiction|Family': 536, 'Action|Comedy|Crime|Drama|Music': 537, 'Thriller|Crime|Romance': 538, 'War|Adventure|Drama|Romance': 539, 'Family|Animation|Adventure': 540, 'Drama|Mystery|Thriller|Horror': 541, 'Drama|Horror|Thriller|Romance': 542, 'Mystery|Drama|Thriller|Crime': 543, 'Drama|Horror|Thriller|War': 544, 'Crime|Thriller|Horror': 545, 'Action|Adventure|Drama|History': 546, 'Drama|Romance|Comedy|Music': 547, 'Action|Family': 548, 'Comedy|Horror|Thriller|Mystery|Fantasy': 549, 'Documentary|Drama|Music|Thriller': 550, 'Action|Drama|Foreign|Science Fiction|Thriller': 551, 'Comedy|Drama|Fantasy': 552, 'Fantasy|Drama|Science Fiction|Romance|Family': 553, 'Action|Crime|Drama|Romance': 554, 'Action|Adventure|Animation|Comedy|Family': 555, 'Action|Drama|Foreign': 556, 'Fantasy|Drama|Comedy|Family': 557, 'Drama|Western|War|Romance': 558, 'Fantasy|Action|Thriller': 559, 'Drama|Thriller|Crime|Mystery|Romance': 560, 'Horror|Thriller|Mystery|Fantasy': 561, 'Animation|Family|Adventure': 562, 'Thriller|Science Fiction|Action|Crime': 563, 'Drama|Action|Western': 564, 'Animation|Drama|Family|Fantasy': 565, 'Action|Fantasy|Science Fiction': 566, 'Comedy|Thriller|Action|Crime': 567, 'Crime|Comedy|Drama|Thriller': 568, 'Mystery|Crime|Drama|Thriller': 569, 'Action|Drama|Science Fiction|Thriller': 570, 'Western|Action|Comedy': 571, 'Comedy|Drama|Family|Fantasy|Science Fiction': 572, 'Action|Comedy|Western': 573, 'Romance|Drama|Comedy': 574, 'Adventure|Action|Comedy|Family': 575, 'Drama|Family|Adventure': 576, 'Action|Adventure|Fantasy|TV Movie': 577, 'Science Fiction|Action|Adventure|Animation': 578, 'Thriller|Comedy': 579, 'Fantasy|Action|Horror': 580, 'Science Fiction|Adventure|Fantasy': 581, 'Fantasy|Animation|Family': 582, 'Adventure|Fantasy|Drama|Comedy|Science Fiction': 583, 'Thriller|Action|Drama|Crime': 584, 'Animation|Family|Romance': 585, 'Horror|Crime|Mystery|Thriller': 586, 'War|Action|Thriller|Science Fiction': 587, 'Comedy|Romance|Fantasy|Drama': 588, 'Drama|Action|Adventure|History|War': 589, 'Animation|Comedy|Action|Family': 590, 'Adventure|History': 591, 'Thriller|Comedy|Action': 592, 'Adventure|Comedy|Crime': 593, 'Comedy|Romance|Science Fiction|Drama': 594, 'Action|Horror': 595, 'Adventure|Drama|Action|Thriller': 596, 'Drama|Family|TV Movie': 597, 'Adventure|Horror|Action|Thriller|Science Fiction': 598, 'Science Fiction|Romance': 599, 'Horror|Mystery|Fantasy|Thriller': 600, 'Thriller|Horror|Romance': 601, 'Comedy|Horror|Thriller|Mystery': 602, 'Action|Romance|Thriller': 603, 'Action|Animation|Adventure': 604, 'Thriller|Mystery|Foreign': 605, 'Thriller|Horror|Comedy': 606, 'Drama|Comedy|Thriller|Mystery|Romance': 607, 'Drama|Horror|Romance|Thriller': 608, 'Comedy|Romance|Horror': 609, 'Comedy|Mystery|Thriller': 610, 'Family|Animation|Comedy': 611, 'Drama|Thriller|Crime|Romance': 612, 'Comedy|TV Movie': 613, 'Drama|Foreign|Thriller': 614, 'Fantasy|Action|Crime|Science Fiction|Thriller': 615, 'Fantasy|Action|Thriller|Science Fiction': 616, 'Adventure|Action|Comedy|Thriller|Crime': 617, 'Action|Adventure|Fantasy|Thriller': 618, 'Action|Thriller|Adventure|Science Fiction': 619, 'Action|Adventure|Mystery|Science Fiction|Thriller': 620, 'Thriller|Fantasy|Comedy|Family|Mystery': 621, 'Thriller|Fantasy|Action|Comedy': 622, 'Action|Drama|Mystery|Thriller|Crime': 623, 'Comedy|Adventure|Family': 624, 'Action|Comedy|Fantasy': 625, 'Action|Comedy|Romance|Thriller': 626, 'Drama|Fantasy|Horror|Mystery|Romance': 627, 'Comedy|Music|Mystery|Crime': 628, 'Drama|Romance|Adventure|War': 629, 'TV Movie|Comedy|Family': 630, 'Adventure|Drama|Science Fiction|Action': 631, 'Romance|Action|Comedy|Crime|Mystery': 632, 'Comedy|Drama|Mystery|Science Fiction': 633, 'Science Fiction|Animation': 634, 'Crime|Thriller|Mystery|Drama': 635, 'Documentary|Action|Adventure': 636, 'Drama|Horror|Comedy|Thriller|Romance': 637, 'War|Action|Drama|Romance': 638, 'Drama|Romance|Western': 639, 'Comedy|Drama|Romance|Science Fiction|Thriller': 640, 'Animation|Science Fiction|Music': 641, 'Family|Comedy|Drama': 642, 'Animation|Drama|Science Fiction': 643, 'Drama|Science Fiction|Family': 644, 'Animation|Family|Fantasy|Adventure|Comedy': 645, 'Thriller|Science Fiction|Mystery|Romance': 646, 'Science Fiction|Comedy|Crime': 647, 'Action|Crime|Science Fiction|Thriller': 648, 'Adventure|Comedy|Family|Romance': 649, 'Adventure|Comedy|Family|Science Fiction|Action': 650, 'Adventure|Action|Drama|Thriller': 651, 'Fantasy|Drama|Comedy|Thriller|Science Fiction': 652, 'Drama|Horror|Thriller|TV Movie': 653, 'Animation|Comedy|Family|Music': 654, 'Fantasy|Animation|Romance|Family': 655, 'Action|Family|Fantasy': 656, 'Drama|History|Mystery': 657, 'Action|Drama|Foreign|History|Thriller': 658, 'Family|Fantasy|Music|Romance|Science Fiction': 659, 'Fantasy|Horror|Comedy': 660, 'Science Fiction|Thriller|Action|Adventure': 661, 'Comedy|Action|Science Fiction': 662, 'Fantasy|Horror|Action': 663, 'Comedy|Music|Romance|Drama': 664, 'Fantasy|Adventure|Family': 665, 'Animation|Comedy|Adventure|Family|Science Fiction': 666, 'Animation|Action|Adventure|Family': 667, 'Thriller|Horror|Drama|Fantasy': 668, 'Science Fiction|Adventure': 669, 'Mystery|Romance|Thriller': 670, 'History|Action|Adventure': 671, 'Fantasy|Science Fiction|Animation|Action|Adventure': 672, 'TV Movie|Horror': 673, 'Western|Drama|Crime|Romance': 674, 'Drama|Science Fiction|Animation': 675, 'Drama|Fantasy|Science Fiction|Thriller': 676, 'Mystery|Science Fiction|Romance': 677, 'Horror|Science Fiction|Action': 678, 'History|Drama|Thriller|Mystery': 679, 'Documentary|Drama|War|Crime|Mystery': 680, 'Animation|Romance': 681, 'TV Movie|Science Fiction|Action': 682, 'Crime|Drama|Romance': 683, 'Music|Romance|Comedy|Drama': 684, 'TV Movie|Action|Adventure|Documentary': 685, 'Family|Adventure|Animation': 686, 'Drama|Adventure|Documentary': 687, 'Adventure|Horror|Thriller|Mystery': 688, 'Horror|Fantasy': 689, 'Adventure|Comedy|Science Fiction|Family': 690, 'Action|Adventure|Drama|Science Fiction': 691, 'Action|Adventure|Fantasy|Romance': 692, 'Action|Adventure|Drama|Thriller|War': 693, 'Adventure|Comedy|Fantasy|Science Fiction|Family': 694, 'Romance|Western': 695, 'Action|Science Fiction|Thriller|Horror|Fantasy': 696, 'Action|Adventure|Comedy|Crime|Drama': 697, 'Drama|Action|Comedy|Romance': 698, 'Action|Adventure|Comedy|Drama': 699, 'Drama|History|Western': 700, 'Action|Adventure|War': 701, 'Adventure|Fantasy|Animation|Comedy|Science Fiction': 702, 'Action|Thriller|Fantasy': 703, 'Animation|Comedy|Family|Science Fiction': 704, 'Romance|Fantasy|Animation|Music': 705, 'Drama|Mystery|Thriller|Fantasy': 706, 'Action|Comedy|Crime|Mystery': 707, 'Adventure|Fantasy|Action|Comedy|Thriller': 708, 'Fantasy|Comedy|Family|Adventure': 709, 'Crime|Drama|Family': 710, 'Comedy|Drama|Mystery|Romance': 711, 'Horror|Adventure|Drama|Thriller': 712, 'Action|Adventure|Comedy|Drama|Mystery': 713, 'Action|Comedy|Crime|Drama|Thriller': 714, 'Fantasy|Animation|Horror|Action|Thriller': 715, 'Adventure|Fantasy|Action|Family': 716, 'Adventure|Crime|Drama|Mystery|Western': 717, 'Family|Romance': 718, 'Thriller|Horror|Drama|Mystery': 719, 'Comedy|Drama|Family|Fantasy|TV Movie': 720, 'Thriller|Mystery|Drama': 721, 'Animation|Thriller|Family': 722, 'Action|Adventure|Drama|Romance': 723, 'Thriller|Drama|Mystery|Crime': 724, 'Comedy|Foreign|Romance': 725, 'Documentary|Drama|History': 726, 'Action|Documentary|Science Fiction': 727, 'Drama|Horror|Comedy|Thriller|Science Fiction': 728, 'Drama|Thriller|Mystery|Foreign': 729, 'Action|Adventure|Drama|Fantasy|Science Fiction': 730, 'Drama|Thriller|Science Fiction|Romance|Foreign': 731, 'Fantasy|Action|Science Fiction|Thriller': 732, 'Animation|Family|Comedy|Adventure': 733, 'Comedy|Drama|Fantasy|Romance': 734, 'Drama|Adventure|Science Fiction|Romance': 735, 'Fantasy|Action|Adventure|Family': 736, 'Thriller|Action|Adventure|Drama': 737, 'War|Drama|History': 738, 'Fantasy|Drama|Thriller|Romance': 739, 'Action|Comedy|Crime|Mystery|Family': 740, 'Horror|Action|Crime|Thriller': 741, 'Action|Comedy|Documentary': 742, 'Adventure|Drama|War': 743, 'Drama|History|Crime|Thriller|Action': 744, 'Action|Adventure|Drama|History|Romance': 745, 'Fantasy|Drama|Action|Comedy|Crime': 746, 'Action|Adventure|Family|TV Movie': 747, 'Mystery|Thriller|Crime|Horror': 748, 'Action|Adventure|Animation|Comedy|Drama': 749, 'Comedy|War|History': 750, 'Drama|Horror|Thriller|Music': 751, 'Romance|Comedy|Drama|Horror': 752, 'Drama|Thriller|Fantasy|Mystery': 753, 'Action|Crime|Drama|Foreign|Thriller': 754, 'Horror|Adventure|Fantasy': 755, 'TV Movie|Comedy|Family|Romance': 756, 'Animation|Family|Science Fiction': 757, 'Action|Documentary': 758, 'Comedy|Romance|Adventure': 759, 'Drama|Fantasy|Horror|Thriller|Mystery': 760, 'Science Fiction|Drama|Romance': 761, 'War|Adventure|Drama': 762, 'Adventure|Action|Thriller|Mystery': 763, 'Science Fiction|Action|Horror|Thriller|Adventure': 764, 'Mystery|Action|Thriller|Science Fiction|Adventure': 765, 'Mystery|Fantasy|Adventure|Comedy': 766, 'War|History|Action|Adventure|Drama': 767, 'Horror|Mystery|Crime': 768, 'Adventure|War|History': 769, 'Western|Animation|Family|Comedy|Music': 770, 'Music|Adventure|Animation|Action|Comedy': 771, 'Music|Comedy|Family|Romance': 772, 'Adventure|Action|Horror|Science Fiction|Thriller': 773, 'Drama|Comedy|Music|Romance': 774, 'Romance|Action|Adventure|Crime|Mystery': 775, 'Action|Animation|Fantasy|Horror': 776, 'Mystery|Action|Drama|Thriller|Crime': 777, 'Drama|Horror|Science Fiction|Mystery': 778, 'TV Movie|Comedy|Adventure|Family': 779, 'Action|Adventure|Comedy|Crime|Foreign': 780, 'Drama|Adventure|Thriller': 781, 'Comedy|Drama|Fantasy|Science Fiction': 782, 'Action|Comedy|Drama|Romance|Western': 783, 'Science Fiction|Drama|Fantasy|Romance': 784, 'Drama|Action|Thriller|Crime|Foreign': 785, 'Adventure|Action|Thriller|Foreign': 786, 'History|Adventure|Drama': 787, 'Comedy|Drama|Horror|Thriller': 788, 'Fantasy|Music|Romance': 789, 'Fantasy|Horror|Thriller|Science Fiction|Mystery': 790, 'Adventure|Horror|Mystery|Thriller': 791, 'Drama|Horror|Music': 792, 'Comedy|Music|Family|Fantasy|Animation': 793, 'Comedy|Family|Fantasy|Romance': 794, 'Fantasy|Action|Science Fiction|Thriller|Horror': 795, 'Drama|Crime|Mystery|Thriller': 796, 'Drama|Thriller|Crime|History': 797, 'Comedy|Drama|Adventure': 798, 'Adventure|Fantasy|Action|Drama': 799, 'Animation|Adventure|Action|Drama|Fantasy': 800, 'History|Drama|Thriller|Crime|Mystery': 801, 'Drama|Fantasy|Mystery|Science Fiction|Thriller': 802, 'Action|Adventure|Crime|Drama|Fantasy': 803, 'Drama|Mystery|Crime': 804, 'Horror|Thriller|Science Fiction|Mystery|Foreign': 805, 'TV Movie|Fantasy|Animation|Horror|Action': 806, 'Adventure|Action|Comedy|Romance': 807, 'Drama|Crime|War': 808, 'Comedy|Crime|Horror|Thriller': 809, 'Action|Adventure|Crime|Family|Mystery': 810, 'Horror|Foreign': 811, 'Fantasy|Horror|Family': 812, 'Drama|Action|History|Western|Romance': 813, 'Drama|Family|Fantasy|TV Movie': 814, 'Adventure|Drama|Comedy|Science Fiction|Thriller': 815, 'Thriller|Adventure|Drama|Crime': 816, 'Drama|Comedy|Western|Romance': 817, 'Fantasy|Action|Comedy|Science Fiction|Family': 818, 'Drama|Family|Fantasy|Adventure': 819, 'Adventure|Horror|Science Fiction|Thriller': 820, 'Horror|Science Fiction|Crime': 821, 'Action|Adventure|Thriller|War': 822, 'Drama|Fantasy|Horror|Thriller': 823, 'Science Fiction|Action|Comedy|Horror': 824, 'Adventure|Drama|Fantasy|Romance|Science Fiction': 825, 'Adventure|Fantasy|Thriller': 826, 'Comedy|Action|Adventure|Fantasy|Science Fiction': 827, 'Action|Drama|Romance|Thriller': 828, 'Science Fiction|Action|Thriller|Crime|Drama': 829, 'Action|Adventure|Crime|Drama|Romance': 830, 'Drama|Action|Music|Romance': 831, 'Drama|Science Fiction|Action|Adventure': 832, 'Action|Adventure|Animation|Fantasy|Science Fiction': 833, 'Drama|Foreign|Horror': 834, 'Fantasy|Mystery|Thriller': 835, 'Science Fiction|Fantasy|Action|Crime': 836, 'Romance|Animation|Family|Comedy|Adventure': 837, 'Adventure|Action|Drama|Science Fiction|Thriller': 838, 'Action|Adventure|Science Fiction|Family|Fantasy': 839, 'Drama|Horror|Science Fiction|Mystery|Thriller': 840, 'Adventure|Action|Comedy|Crime|Family': 841, 'Action|Thriller|Mystery|Romance': 842, 'Comedy|Horror|Romance': 843, 'Comedy|Thriller|Crime|Drama': 844, 'Foreign|Horror|Mystery': 845, 'Romance|Drama|Crime': 846, 'Comedy|Documentary|Foreign': 847, 'Action|Adventure|Comedy|Family|Thriller': 848, 'Animation|Family|Comedy|Adventure|Fantasy': 849, 'Comedy|Family|Adventure|Crime': 850, 'Action|Crime|Fantasy|Science Fiction|Thriller': 851, 'Thriller|Action|Science Fiction|Crime': 852, 'Drama|Comedy|Thriller|Mystery': 853, 'Animation|Comedy|Fantasy': 854, 'Romance|Crime|Drama|Thriller': 855, 'Action|Comedy|Drama|Fantasy|Science Fiction': 856, 'Adventure|Drama|Romance|Western': 857, 'Drama|Horror|Thriller|Crime': 858, 'Romance|Crime|Drama': 859, 'Comedy|Horror|Mystery': 860, 'Drama|Horror|Thriller|Mystery': 861, 'Animation|Music': 862, 'Drama|Fantasy|Romance|Science Fiction': 863, 'Horror|Action|Thriller|Crime': 864, 'Fantasy|Comedy|Romance|Science Fiction': 865, 'History|Drama|Music': 866, 'Romance|Animation|Family|Adventure|Fantasy': 867, 'Family|Comedy|Fantasy': 868, 'TV Movie|Adventure|Drama|Science Fiction': 869, 'Comedy|Science Fiction|Thriller|Adventure': 870, 'TV Movie|Comedy|Drama|Romance': 871, 'Comedy|Thriller|Crime|Romance': 872, 'Action|Drama|Adventure': 873, 'Comedy|Crime|Action': 874, 'Drama|Crime|Music': 875, 'Horror|Drama|Thriller|Mystery': 876, 'Comedy|Drama|Romance|Fantasy': 877, 'Adventure|Fantasy|Animation|Science Fiction|Family': 878, 'Adventure|Action|Comedy|Western': 879, 'Adventure|Comedy|Family|Fantasy|Mystery': 880, 'Action|Adventure|Drama|Romance|Thriller': 881, 'Fantasy|Animation|Horror|Comedy|Thriller': 882, 'Comedy|Drama|Romance|Science Fiction': 883, 'Crime|Horror|Thriller|Mystery': 884, 'Romance|Drama|Adventure': 885, 'History|Comedy|Drama': 886, 'Action|Adventure|Comedy|Crime|Romance': 887, 'Horror|Family|Foreign': 888, 'Thriller|Action|Comedy|Crime|Drama': 889, 'Drama|History|Mystery|Thriller': 890, 'Animation|Drama|Fantasy': 891, 'Horror|Action|Crime|Drama|Thriller': 892, 'Comedy|Crime|Drama|Mystery|Romance': 893, 'Drama|Action|Western|Romance': 894, 'Comedy|Mystery|Romance': 895, 'Action|Thriller|Crime|Adventure': 896, 'Adventure|Animation|Romance|Family': 897, 'Comedy|Adventure|Fantasy|Science Fiction|Action': 898, 'Romance|Comedy|Crime': 899, 'Thriller|Fantasy|Crime|Drama': 900, 'Crime|Drama|History|Romance': 901, 'Crime|Mystery': 902, 'Adventure|Drama|Action|History|Thriller': 903, 'Adventure|Action|Horror|Science Fiction': 904, 'Mystery|Thriller|Drama|Romance|Crime': 905, 'Drama|Romance|Music': 906, 'Adventure|Fantasy|Horror|Science Fiction': 907, 'Mystery|Drama|Science Fiction': 908, 'Action|Drama|Fantasy': 909, 'Drama|Animation|Family|Comedy|Fantasy': 910, 'Comedy|Horror|Action': 911, 'Adventure|Fantasy|Comedy': 912, 'Action|Comedy|Mystery|Thriller': 913, 'Action|Adventure|Comedy|Drama|Romance': 914, 'Drama|Horror|Comedy': 915, 'Action|Adventure|Science Fiction|Family': 916, 'Drama|Thriller|Crime|Adventure': 917, 'Science Fiction|Adventure|Action|Comedy|Family': 918, 'Action|Comedy|War': 919, 'Action|Comedy|Family|Science Fiction': 920, 'Fantasy|Drama|Horror|Action|Comedy': 921, 'Action|Adventure|Drama|Mystery|Thriller': 922, 'Fantasy|Drama|Comedy|Romance|Family': 923, 'Crime|Science Fiction|Thriller': 924, 'Horror|Fantasy|Comedy': 925, 'Drama|Comedy|Music|Romance|Family': 926, 'Action|Comedy|Drama|Horror|Science Fiction': 927, 'TV Movie|Animation|Family': 928, 'Music|Comedy|Drama|Romance|Science Fiction': 929, 'Mystery|Documentary|Crime': 930, 'Adventure|Family|Fantasy|Comedy|Romance': 931, 'Crime|Drama|History|Thriller': 932, 'Thriller|Comedy|Crime|Adventure': 933, 'Action|Fantasy|Science Fiction|Adventure|Thriller': 934, 'Adventure|Drama|Fantasy|Family|Mystery': 935, 'Action|Comedy|Drama|Science Fiction': 936, 'Drama|Crime|Romance': 937, 'Music|Romance|Family': 938, 'Animation|Fantasy|Music': 939, 'Drama|Family|Music': 940, 'Comedy|Fantasy|Horror|Music|Thriller': 941, 'Horror|Thriller|Adventure': 942, 'Comedy|Horror|Music|Science Fiction': 943, 'Thriller|Western|Mystery': 944, 'Science Fiction|Horror|Mystery': 945, 'History|Drama|Thriller': 946, 'Action|Animation|Comedy|Crime|Drama': 947, 'Western|Action|Adventure|Drama': 948, 'Fantasy|Drama|Comedy|Romance|Foreign': 949, 'Thriller|Comedy|Horror|Mystery': 950, 'Drama|Comedy|War': 951, 'Animation|Comedy|Family|Fantasy|Science Fiction': 952, 'Western|Action': 953, 'Music|Comedy|Crime': 954, 'Horror|Action|Mystery|Thriller': 955, 'Romance|Drama|War': 956, 'Adventure|Action|Comedy|Science Fiction|Family': 957, 'Adventure|Drama|Western': 958, 'Science Fiction|Action|Adventure|Comedy|Family': 959, 'Adventure|Fantasy|Horror': 960, 'Action|Adventure|Crime|Science Fiction|Thriller': 961, 'Adventure|Animation|Crime|Family|Fantasy': 962, 'Action|Drama|Fantasy|Horror': 963, 'Romance|Action|Adventure|Western|Drama': 964, 'TV Movie|Horror|Thriller': 965, 'Music|Crime|Drama': 966, 'Action|Drama|History|Romance|War': 967, 'Crime|Western': 968, 'Adventure|Action|Romance|Science Fiction': 969, 'Comedy|Crime|Romance|Thriller': 970, 'Thriller|Mystery|Horror': 971, 'Drama|Action|Comedy|Music|Family': 972, 'Romance|Fantasy|Drama|Comedy': 973, 'Adventure|Action|Thriller|Crime|Mystery': 974, 'Action|Drama|Thriller|Crime|Mystery': 975, 'Crime|Action|Mystery|Thriller': 976, 'Drama|Music|Mystery': 977, 'Comedy|Science Fiction|Family': 978, 'Fantasy|Comedy|Drama|Romance': 979, 'History|War|Action|Drama': 980, 'Animation|Science Fiction|Family': 981, 'Comedy|History|Horror': 982, 'Drama|Action|Adventure|Crime|Thriller': 983, 'Comedy|Mystery|Romance|Thriller': 984, 'Adventure|Drama|Foreign|Thriller': 985, 'Adventure|Comedy|History|Romance': 986, 'Drama|Family|Animation|Adventure': 987, 'Family|Science Fiction|Adventure': 988, 'Action|Comedy|Drama|War': 989, 'Romance|Comedy|Thriller': 990, 'Drama|Action|Crime|Mystery': 991, 'Romance|Science Fiction|Horror|Action|Crime': 992, 'Mystery|Drama|Horror|Science Fiction': 993, 'Animation|Comedy|Drama|War': 994, 'Fantasy|Drama|Music|Romance': 995, 'Science Fiction|Comedy|Romance': 996, 'Action|Adventure|Drama|Family|Fantasy': 997, 'Action|Adventure|Comedy|Drama|War': 998, 'TV Movie|Animation|Family|Fantasy': 999, 'War|Comedy|Drama': 1000, 'Music|Drama|Crime': 1001, 'Action|Drama|Foreign|History': 1002, 'Crime|Fantasy|Science Fiction|Thriller': 1003, 'Animation|Family|Comedy|TV Movie': 1004, 'Action|Drama|History|Thriller|War': 1005, 'Drama|Horror|Thriller|Science Fiction|Foreign': 1006, 'Adventure|Western': 1007, 'Drama|Action|Comedy|Western|Music': 1008, 'Thriller|Fantasy|Action|Science Fiction|Western': 1009, 'Drama|Animation|Adventure': 1010, 'Action|Adventure|War|Thriller': 1011, 'Adventure|Family|Fantasy|Music|Science Fiction': 1012, 'Family|Adventure|Comedy|Science Fiction|Crime': 1013, 'Action|Adventure|Drama|War|Romance': 1014, 'War|Action|Adventure|Drama': 1015, 'Adventure|Drama|Action|Family|Foreign': 1016, 'Comedy|Family|Mystery|Romance': 1017, 'Mystery|Science Fiction|Thriller|Drama': 1018, 'Action|Adventure|Science Fiction|Thriller': 1019, 'Action|Adventure|Science Fiction|Fantasy': 1020, 'Action|Crime|Thriller': 1021, 'Science Fiction|Action|Thriller|Adventure': 1022, 'Comedy|Animation|Family': 1023, 'Action|Adventure|Crime': 1024, 'Drama|Science Fiction': 1025, 'Crime|Drama|Mystery|Western': 1026, 'Science Fiction|Action|Adventure': 1027, 'Comedy|Drama': 1028, 'Comedy': 1029, 'Crime|Comedy|Action|Adventure': 1030, 'Action|Science Fiction|Thriller': 1031, 'Thriller|Drama': 1032, 'Drama|Thriller': 1033, 'Adventure|Animation|Comedy|Family|Fantasy': 1034, 'Drama|Music': 1035, 'Fantasy|Action|Adventure': 1036, 'History|Drama': 1037, 'Comedy|Action|Adventure': 1038, 'Fantasy|Comedy|Animation|Science Fiction|Family': 1039, 'Drama|Mystery|Romance': 1040, 'Thriller|Crime|Drama': 1041, 'Adventure|Drama': 1042, 'Science Fiction|Mystery|Thriller': 1043, 'Mystery|Crime|Action|Thriller|Drama': 1044, 'Mystery|Horror': 1045, 'Crime|Thriller|Action': 1046, 'Drama|Thriller|War': 1047, 'Crime|Thriller': 1048, 'Adventure|Family|Fantasy': 1049, 'Adventure|Animation|Comedy|Family': 1050, 'Drama|Horror|Thriller': 1051, 'Adventure|Drama|Thriller': 1052, 'Action|Crime|Drama': 1053, 'Adventure|Comedy': 1054, 'Thriller|Science Fiction|Action|Adventure': 1055, 'Action|Adventure|Comedy|Family': 1056, 'Crime|Drama': 1057, 'Horror|Comedy|Fantasy': 1058, 'Action|Thriller': 1059, 'Crime|Drama|Comedy': 1060, 'Thriller|Action|Crime': 1061, 'Romance|Thriller|Western': 1062, 'Action|Drama|Crime': 1063, 'Action|Crime|Comedy': 1064, 'Drama|Science Fiction|Thriller': 1065, 'Horror|Mystery|Thriller': 1066, 'Romance|Fantasy|Horror': 1067, 'Comedy|Drama|Romance': 1068, 'Comedy|Western': 1069, 'Comedy|Thriller': 1070, 'Drama|Music|Romance': 1071, 'History|Drama|War': 1072, 'Comedy|Drama|War': 1073, 'Adventure|Comedy|Romance': 1074, 'Western|Drama': 1075, 'Documentary|Music': 1076, 'Fantasy|Horror': 1077, 'Comedy|Music|War': 1078, 'Drama|Adventure|Comedy': 1079, 'Action|Adventure|Animation': 1080, 'Fantasy|Thriller': 1081, 'Music|Documentary': 1082, 'Horror|Mystery': 1083, 'Fantasy|Comedy|Animation': 1084, 'Action|Drama|Family': 1085, 'Drama|Documentary': 1086, 'Music|Animation|Family|Fantasy': 1087, 'Fantasy|Thriller|Horror|Science Fiction': 1088, 'Action|Science Fiction|Adventure|Fantasy': 1089, 'Animation|Family': 1090, 'Horror|Comedy': 1091, 'Thriller|Horror|Comedy|Drama': 1092, 'Thriller|Comedy|Crime': 1093, 'Thriller|Action|Drama': 1094, 'Drama|War': 1095, 'Thriller|Mystery|Science Fiction': 1096, 'Thriller|Romance|Drama': 1097, 'Horror|Romance|Science Fiction': 1098, 'Animation|Family|Fantasy': 1099, 'Horror|Action': 1100, 'Comedy|Romance': 1101, 'Thriller|Drama|Science Fiction': 1102, 'TV Movie|Adventure|Comedy': 1103, 'Horror|Thriller|Science Fiction': 1104, 'TV Movie|Action|Science Fiction': 1105, 'Crime|Drama|Thriller': 1106, 'War|Action': 1107, 'Drama|Horror|Science Fiction|Thriller': 1108, 'Animation': 1109, 'Drama|TV Movie|Crime|Mystery': 1110, 'Drama|TV Movie': 1111, 'Science Fiction|Comedy|Horror': 1112, 'Horror|Science Fiction|TV Movie': 1113, 'Science Fiction|Action|Animation|Adventure': 1114, 'Drama|Thriller|Horror': 1115, 'Horror|Comedy|Romance': 1116, 'Romance|Drama|Comedy|Mystery': 1117, 'TV Movie|Comedy': 1118, 'History|Drama|Family': 1119, 'Mystery|Thriller|Horror|Science Fiction': 1120, 'Science Fiction|Comedy|Animation|Family': 1121, 'Mystery|Horror|Comedy': 1122, 'Mystery|Comedy': 1123, 'Crime': 1124, 'Action|Crime|Drama|Thriller': 1125, 'Drama|Family': 1126, 'Action|Comedy|Romance': 1127, 'Comedy|TV Movie|Animation|Science Fiction': 1128, 'TV Movie|Drama': 1129, 'Horror|Animation|Mystery': 1130, 'Drama|Horror': 1131, 'Drama|History|Thriller|Science Fiction': 1132, 'Fantasy|Adventure|Comedy': 1133, 'Romance|TV Movie': 1134, 'Mystery|Horror|Thriller': 1135, 'Music|Drama|Documentary|Crime': 1136, 'Documentary|Science Fiction': 1137, 'Thriller|Documentary': 1138, 'Drama|Science Fiction|Comedy': 1139, 'Thriller|Drama|Action|Crime': 1140, 'Family|Action|Drama': 1141, 'Mystery|Drama|History|Family|Thriller': 1142, 'Thriller|Adventure|Drama': 1143, 'Thriller|Crime|Documentary': 1144, 'Thriller|Drama|Fantasy': 1145, 'Romance|War|Documentary|Drama': 1146, 'Drama|Thriller|Horror|Mystery': 1147, 'Science Fiction|Comedy': 1148, 'Thriller|Mystery|Horror|Drama': 1149, 'Horror|Comedy|Drama': 1150, 'Science Fiction|Adventure|Thriller': 1151, 'History|Drama|Thriller|War': 1152, 'Mystery|Thriller|Drama': 1153, 'War|Drama|Action': 1154, 'Action|Adventure|Fantasy|Science Fiction': 1155, 'Science Fiction|Action|Adventure|Fantasy|Comedy': 1156, 'Adventure|Drama|Action': 1157, 'Fantasy|Action|Adventure|Animation|Comedy': 1158, 'Action|Adventure|Thriller': 1159, 'Crime|Comedy|Action': 1160, 'Thriller|Action|Science Fiction': 1161, 'Action|Thriller|Crime|Drama': 1162, 'Drama|Adventure': 1163, 'Mystery|Thriller': 1164, 'War|Drama|History|Action': 1165, 'Thriller|Romance': 1166, 'Action|Adventure|History|Romance|Drama': 1167, 'Romance|Animation|Adventure|Comedy|Family': 1168, 'Thriller|Crime|Action': 1169, 'Adventure': 1170, 'Comedy|Action|Drama|Thriller|Fantasy': 1171, 'Animation|Comedy|Adventure|Family': 1172, 'Comedy|Drama|Mystery': 1173, 'Drama|Romance|War': 1174, 'Mystery|Drama|Action|Crime': 1175, 'Fantasy|Comedy|Drama': 1176, 'Drama|Action': 1177, 'Thriller|Science Fiction|Drama': 1178, 'Comedy|Drama|Crime': 1179, 'Adventure|Drama|Comedy': 1180, 'Drama|Fantasy|Science Fiction': 1181, 'Romance|Comedy|Animation|Drama|Family': 1182, 'Drama|Comedy|Romance': 1183, 'Thriller|Horror|Drama': 1184, 'Comedy|Adventure|Crime|Family': 1185, 'Comedy|Drama|Horror': 1186, 'Documentary|Family': 1187, 'Horror|Action|Comedy': 1188, 'Fantasy|Comedy': 1189, 'Romance|Comedy|Horror': 1190, 'Action|Drama|Romance|TV Movie': 1191, 'Thriller|Drama|Romance': 1192, 'Animation|Action|Adventure': 1193, 'Family|Adventure|Science Fiction': 1194, 'Fantasy|Adventure': 1195, 'Action|Horror|Science Fiction': 1196, 'TV Movie|Crime|Mystery|Thriller': 1197, 'Family|Animation|Music': 1198, 'Drama|Action|Adventure': 1199, 'Adventure|Science Fiction|Action|Thriller': 1200, 'Drama|Action|Comedy|Crime': 1201, 'Documentary|Drama': 1202, 'Science Fiction|Adventure|Comedy': 1203, 'Drama|Crime|TV Movie': 1204, 'Music|Romance|Drama': 1205, 'Comedy|Drama|Music|Romance': 1206, 'Science Fiction|Comedy|Drama|Romance': 1207, 'Drama|Thriller|Action|Crime': 1208, 'Thriller|War|Adventure|Drama': 1209, 'Mystery|Thriller|Crime': 1210, 'Action|Drama|Horror|Thriller': 1211, 'Thriller|Science Fiction|Action': 1212, 'Music|Drama|Comedy': 1213, 'Adventure|Romance|Drama': 1214, 'Action|Adventure|Thriller|Romance': 1215, 'TV Movie|Drama|History': 1216, 'Drama|Crime|Thriller': 1217, 'Horror|Thriller|Action': 1218, 'Adventure|Family': 1219, 'TV Movie|Romance|Drama|Thriller': 1220, 'Documentary|War': 1221, 'Drama|War|Thriller': 1222, 'Family|Science Fiction': 1223, 'Science Fiction|Action|Fantasy': 1224, 'Action|War|Drama': 1225, 'History|Comedy|Documentary': 1226, 'Adventure|Action|Animation|Fantasy': 1227, 'Family|Animation|Action|Science Fiction': 1228, 'Action|Thriller|War': 1229, 'Music': 1230, 'TV Movie|Science Fiction|Action|Adventure|Horror': 1231, 'Drama|Science Fiction|TV Movie': 1232, 'Crime|Documentary': 1233, 'War|Documentary': 1234, 'Drama|Horror|Mystery|Science Fiction|Thriller': 1235, 'War|Documentary|History': 1236, 'Romance|Adventure|Drama': 1237, 'Drama|Music|Comedy': 1238, 'Adventure|Fantasy|Romance|Science Fiction': 1239, 'Romance|Music|Comedy': 1240, 'War|Action|Drama': 1241, 'Documentary|Drama|Music': 1242, 'Documentary|Thriller': 1243, 'Adventure|Action|Science Fiction': 1244, 'Adventure|Action|Thriller': 1245, 'Fantasy|Animation|Comedy|Family': 1246, 'Drama|History|War': 1247, 'Action|Adventure|Drama|War': 1248, 'Action|Adventure|Comedy': 1249, 'Drama|Action|History|War': 1250, 'Horror|Thriller|Fantasy': 1251, 'Action|Adventure|Drama|Thriller': 1252, 'Science Fiction|Fantasy|Horror|Drama': 1253, 'Adventure|Drama|Action|History': 1254, 'History|Adventure': 1255, 'Animation|Fantasy|Science Fiction': 1256, 'Mystery|Thriller|Adventure': 1257, 'Drama|Comedy|Family': 1258, 'Action|Thriller|Science Fiction': 1259, 'Action|Adventure|Animation|Science Fiction|Thriller': 1260, 'Romance|Family|Animation|Music': 1261, 'Comedy|Romance|Drama': 1262, 'Adventure|Fantasy|Action|Comedy|Family': 1263, 'Animation|Drama': 1264, 'Action|Thriller|Crime': 1265, 'Animation|Family|Adventure|Fantasy': 1266, 'Action|Adventure|Drama|Mystery|Science Fiction': 1267, 'Fantasy|Action|Adventure|Family|Comedy': 1268, 'Comedy|Romance|Fantasy': 1269, 'Science Fiction|Drama|Romance|Fantasy': 1270, 'Animation|Family|Adventure|Science Fiction': 1271, 'Horror|Thriller|Mystery': 1272, 'Comedy|Crime|Drama|Thriller': 1273, 'Fantasy|Horror|Action|Thriller|Science Fiction': 1274, 'Adventure|Fantasy|Drama': 1275, 'Family|Fantasy': 1276, 'Adventure|Comedy|Science Fiction': 1277, 'Science Fiction|Animation|Family|Comedy|Adventure': 1278, 'Science Fiction|Action|Adventure|Drama': 1279, 'Action|Drama|Horror|Science Fiction|Thriller': 1280, 'Drama|Foreign|History': 1281, 'Drama|Thriller|Crime': 1282, 'Thriller|Adventure|Fantasy': 1283, 'Adventure|Action|Science Fiction|Thriller': 1284, 'Horror|Comedy|Music': 1285, 'Drama|History|TV Movie': 1286, 'Comedy|Crime|Drama': 1287, 'Drama|Comedy|Crime': 1288, 'Comedy|Drama|Family|Music|Romance': 1289, 'Adventure|Horror|Thriller': 1290, 'Fantasy|Drama|Action|Thriller|Animation': 1291, 'Adventure|Thriller|Science Fiction': 1292, 'Action|Drama|History': 1293, 'Drama|Foreign|Romance': 1294, 'Crime|Thriller|Horror|Drama': 1295, 'Thriller|Crime|Drama|Action': 1296, 'TV Movie|Comedy|Family|Fantasy|Romance': 1297, 'TV Movie|Action|Adventure|Comedy|Family': 1298, 'Crime|Drama|Thriller|Mystery': 1299, 'Action|Comedy|Music': 1300, 'Action|Horror|Thriller|Science Fiction': 1301, 'Thriller|Mystery|Crime|Drama': 1302, 'Thriller|Crime|Science Fiction|Mystery': 1303, 'Crime|Thriller|Comedy': 1304, 'Animation|Adventure|Comedy|Family|Fantasy': 1305, 'Animation|Comedy': 1306, 'Music|Comedy|Drama|Romance': 1307, 'Animation|Fantasy|Family': 1308, 'Drama|History|Horror': 1309, 'Adventure|Fantasy|Drama|Thriller': 1310, 'Horror|Thriller|Crime|Mystery': 1311, 'Drama|Horror|Romance': 1312, 'Drama|Fantasy|Comedy': 1313, 'Animation|Adventure|Action|Comedy': 1314, 'Fantasy|Drama|Comedy|Science Fiction': 1315, 'Drama|History|Foreign': 1316, 'Drama|Comedy|Science Fiction|Romance': 1317, 'Thriller|Mystery|Romance': 1318, 'Action|Adventure|Animation|Family|Science Fiction': 1319, 'Mystery|Adventure|Family': 1320, 'Fantasy|Drama|Science Fiction|Foreign': 1321, 'Action|Comedy|Crime|Drama': 1322, 'Crime|Horror|Mystery|Thriller': 1323, 'Foreign|Action|Science Fiction|Thriller|Horror': 1324, 'Adventure|Comedy|Drama|Family|Fantasy': 1325, 'Comedy|Drama|Foreign': 1326, 'Comedy|Drama|Family|TV Movie': 1327, 'Family|Science Fiction|TV Movie|Adventure|Drama': 1328, 'Action|Comedy|Mystery|Romance|Thriller': 1329, 'Horror|Action|Thriller|Science Fiction': 1330, 'Drama|Action|Comedy': 1331, 'Comedy|Fantasy': 1332, 'Horror|Drama|Mystery|Thriller': 1333, 'Documentary|Horror': 1334, 'Science Fiction|Adventure|Family': 1335, 'Animation|Fantasy|Mystery': 1336, 'Foreign|Romance|Thriller': 1337, 'Animation|Science Fiction': 1338, 'Action|Comedy|Foreign': 1339, 'Comedy|Horror|Thriller': 1340, 'Animation|Family|Comedy': 1341, 'Action|Thriller|Crime|Mystery': 1342, 'Action|Thriller|Romance': 1343, 'Adventure|Fantasy|Action|Romance': 1344, 'Drama|Adventure|Western': 1345, 'Fantasy|Adventure|Action|Comedy|Drama': 1346, 'Comedy|Adventure|Fantasy|Animation|Family': 1347, 'Animation|Action|Comedy|Family|Science Fiction': 1348, 'Fantasy|Horror|Thriller': 1349, 'Action|Adventure|Crime|Mystery|Thriller': 1350, 'Action|Western|Drama|Fantasy|Thriller': 1351, 'Animation|Adventure|Fantasy|Family': 1352, 'Action|Comedy|Thriller|Romance': 1353, 'Drama|Horror|Mystery': 1354, 'Crime|Drama|Action|Thriller': 1355, 'Crime|Drama|Horror|Thriller': 1356, 'Fantasy|Action|Family': 1357, 'Comedy|Documentary|Action': 1358, 'Drama|Family|Fantasy': 1359, 'Thriller|Action|Comedy': 1360, 'Action|Comedy|Family': 1361, 'Drama|Horror|Action|Thriller|Mystery': 1362, 'Drama|Mystery|Thriller|Crime|Romance': 1363, 'Crime|Drama|Action|Thriller|Science Fiction': 1364, 'Crime|Drama|History': 1365, 'Drama|Horror|Crime': 1366, 'Fantasy|Drama|Horror|Action|Thriller': 1367, 'War': 1368, 'Mystery|Fantasy|Comedy|Adventure': 1369, 'Fantasy|Drama|Family': 1370, 'Adventure|Action|Comedy|Thriller': 1371, 'Fantasy|Animation|Drama|Comedy|Science Fiction': 1372, 'Action|Adventure|Fantasy|Horror': 1373, 'Fantasy|Comedy|Science Fiction': 1374, 'Action|Adventure|Drama': 1375, 'Animation|Fantasy|Comedy|Science Fiction': 1376, 'Science Fiction|Comedy|Mystery': 1377, 'Drama|Thriller|Foreign': 1378, 'Mystery|Horror|Thriller|Crime': 1379, 'Action|Thriller|Crime|Romance': 1380, 'Crime|Horror|Mystery': 1381, 'Crime|Comedy|Drama': 1382, 'Drama|Action|Romance': 1383, 'War|Drama|Action|Adventure|History': 1384, 'Horror|Action|Science Fiction|Thriller': 1385, 'TV Movie|Animation|Adventure': 1386, 'Family|History|Action|Drama': 1387, 'Drama|Thriller|Crime|Mystery': 1388, 'Action|Adventure|Drama|Horror|Science Fiction': 1389, 'Foreign|Horror|Thriller': 1390, 'Action|Comedy|Animation': 1391, 'History|Music': 1392, 'Science Fiction|Thriller|Drama': 1393, 'Horror|Thriller|Foreign': 1394, 'Horror|Comedy|Science Fiction|Thriller': 1395, 'Comedy|Drama|History': 1396, 'Action|Adventure|Horror|Science Fiction': 1397, 'Fantasy|Science Fiction|Horror': 1398, 'Animation|Music|Romance': 1399, 'Drama|Comedy|Romance|Foreign': 1400, 'Drama|Comedy|Romance|Family': 1401, 'Animation|Adventure': 1402, 'Action|Animation|Drama|Fantasy|Thriller': 1403, 'Adventure|Fantasy|Horror|Action|Thriller': 1404, 'Fantasy|Drama|Crime': 1405, 'Adventure|Animation|Drama|Family': 1406, 'Comedy|Family|Science Fiction': 1407, 'Fantasy|Drama|Comedy': 1408, 'Drama|Mystery|Thriller|Crime': 1409, 'Action|Adventure|Comedy|Drama|Science Fiction': 1410, 'Adventure|Animation|Family|Fantasy|Science Fiction': 1411, 'Animation|Comedy|Music': 1412, 'Thriller|Science Fiction|Mystery': 1413, 'Thriller|Crime|Mystery': 1414, 'Horror|Action|Science Fiction': 1415, 'Horror|Comedy|Action|Science Fiction|Thriller': 1416, 'Crime|Action|Horror|Thriller': 1417, 'Action|Thriller|Science Fiction|Horror': 1418, 'Drama|History|Thriller': 1419, 'Comedy|Action|Crime|Adventure': 1420, 'Comedy|Crime|Romance': 1421, 'Western|Horror|Thriller': 1422, 'Comedy|Drama|Family|Science Fiction': 1423, 'Fantasy|Drama|Comedy|Romance': 1424, 'Fantasy|Comedy|Science Fiction|Family': 1425, 'TV Movie|Action|Drama|Western': 1426, 'Fantasy|Family': 1427, 'Comedy|Drama|Thriller': 1428, 'Drama|Family|Science Fiction|Fantasy': 1429, 'Action|Science Fiction|Thriller|Adventure|Horror': 1430, 'Adventure|Fantasy|Action|Science Fiction|Family': 1431, 'Comedy|Foreign': 1432, 'Action|Drama|Science Fiction|Adventure': 1433, 'Crime|Drama|Horror': 1434, 'Animation|Action|Family': 1435, 'TV Movie|Comedy|Documentary': 1436, 'Foreign': 1437, 'Thriller|Drama|Mystery': 1438, 'Action|Adventure|Drama|Fantasy|Horror': 1439, 'Adventure|Fantasy|Animation|Action|Comedy': 1440, 'Comedy|Family|Romance|Fantasy': 1441, 'Action|Drama|Thriller|War': 1442, 'Comedy|Fantasy|Romance|Science Fiction': 1443, 'Action|Comedy|Crime|Romance': 1444, 'Fantasy|Comedy|Science Fiction|Romance': 1445, 'Comedy|Crime|Mystery|Romance|Thriller': 1446, 'Adventure|Animation|Action|Comedy|Family': 1447, 'Action|Family|Adventure|Romance|TV Movie': 1448, 'Action|Western': 1449, 'Crime|Drama|Thriller|Horror': 1450, 'Action|Adventure|Crime|Thriller': 1451, 'TV Movie|Fantasy|Family|Adventure': 1452, 'Adventure|Comedy|Fantasy': 1453, 'Adventure|Comedy|Family|Science Fiction|TV Movie': 1454, 'TV Movie|Family|Comedy|Drama': 1455, 'Action|Horror|Mystery|Thriller': 1456, 'TV Movie|Thriller|Drama|History|Romance': 1457, 'Fantasy|Science Fiction': 1458, 'Adventure|Fantasy|Science Fiction': 1459, 'Adventure|Drama|Action|Comedy|Romance': 1460, 'Comedy|Horror|Fantasy': 1461, 'Adventure|Action|Thriller|Crime': 1462, 'Music|Drama|Romance': 1463, 'Fantasy|Comedy|Family|Romance': 1464, 'Crime|Action|Drama': 1465, 'Horror|Thriller|Crime': 1466, 'Family|Action|Science Fiction': 1467, 'Action|Drama|History|War': 1468, 'Action|Comedy|Thriller|Crime|Science Fiction': 1469, 'Drama|Western|Crime': 1470, 'Drama|Animation|War': 1471, 'Adventure|Comedy|Family': 1472, 'Animation|Comedy|Science Fiction|Fantasy': 1473, 'Romance|Science Fiction|Thriller': 1474, 'Comedy|Drama|Family|Music|TV Movie': 1475, 'Comedy|Fantasy|Romance': 1476, 'Animation|Horror|Science Fiction|Thriller': 1477, 'Romance|Horror|Thriller': 1478, 'Comedy|Drama|Family|Romance': 1479, 'Horror|Comedy|Crime|Thriller': 1480, 'Crime|Horror': 1481, 'Drama|History|Music': 1482, 'Adventure|Action|Fantasy|Horror|Science Fiction': 1483, 'Comedy|Crime|Mystery|Thriller': 1484, 'Thriller|Documentary|Crime|History': 1485, 'Drama|War|History': 1486, 'Action|History|Drama': 1487, 'Comedy|War|Adventure|Drama': 1488, 'Horror|Mystery|Science Fiction': 1489, 'Action|Thriller|War|History': 1490, 'Adventure|Fantasy|Animation|Action|Science Fiction': 1491, 'War|Drama|Foreign|History': 1492, 'Drama|Comedy|Foreign': 1493, 'Comedy|Drama|Family|Fantasy|Foreign': 1494, 'Action|Adventure|Drama|Horror|Thriller': 1495, 'TV Movie|Comedy|Science Fiction|Family|Adventure': 1496, 'Adventure|Action|Comedy|Science Fiction|Music': 1497, 'Adventure|Animation|Comedy|Science Fiction|Family': 1498, 'Drama|Action|Crime|Foreign': 1499, 'Action|Adventure|Comedy|Crime': 1500, 'Animation|Drama|Music|Romance': 1501, 'Action|Horror|Western': 1502, 'Music|Romance': 1503, 'Documentary|History|War': 1504, 'Drama|Romance|War|History': 1505, 'Action|Animation|Horror': 1506, 'Adventure|Action|Fantasy': 1507, 'Fantasy|Thriller|Action|Crime': 1508, 'Thriller|Crime|Mystery|Drama': 1509, 'Action|Science Fiction|Drama': 1510, 'Adventure|Animation|Action|Family|Mystery': 1511, 'Adventure|Fantasy|Romance': 1512, 'Action|Science Fiction|Thriller|Western': 1513, 'Action|Fantasy|Horror|Science Fiction|Thriller': 1514, 'Thriller|Romance|Fantasy': 1515, 'Fantasy|Action|Drama': 1516, 'Animation|Comedy|Adventure': 1517, 'Horror|Science Fiction|Mystery|Thriller': 1518, 'Adventure|Fantasy|Action|Comedy': 1519, 'Drama|Science Fiction|Romance': 1520, 'Horror|Comedy|Science Fiction': 1521, 'Action|Comedy|Thriller|Crime': 1522, 'Comedy|Family|Music': 1523, 'Family|Comedy|Action': 1524, 'Thriller|Crime|Drama|Action|Comedy': 1525, 'Crime|Thriller|Mystery': 1526, 'Science Fiction|Drama|Mystery': 1527, 'Adventure|Fantasy|Drama|Action': 1528, 'Action|Crime|Comedy|Romance': 1529, 'Animation|Comedy|Family|TV Movie': 1530, 'Action|Crime|Thriller|Drama': 1531, 'Adventure|Action|Western': 1532, 'Comedy|Family|Adventure': 1533, 'Action|Drama|Horror|Science Fiction': 1534, 'Science Fiction|Fantasy': 1535, 'Drama|Action|Thriller|Crime|War': 1536, 'Romance|Adventure|Action|History': 1537, 'Family|TV Movie|Romance': 1538, 'Horror|Thriller|Romance': 1539, 'Horror|Thriller|Science Fiction|Mystery': 1540, 'Fantasy|Drama|Action': 1541, 'Adventure|Comedy|Drama|Family|TV Movie': 1542, 'Documentary|Music|Family': 1543, 'Thriller|Science Fiction|Foreign': 1544, 'Thriller|Science Fiction|Horror|Mystery': 1545, 'Action|Thriller|Fantasy|Crime': 1546, 'TV Movie|Comedy|Romance': 1547, 'Fantasy|Horror|Thriller|War': 1548, 'Foreign|Documentary': 1549, 'Adventure|Animation': 1550, 'Documentary|Crime': 1551, 'Documentary|Drama|Comedy': 1552, 'Action|Drama|Mystery|Thriller': 1553, 'Action|Thriller|Science Fiction|Mystery': 1554, 'Family|Adventure|Animation|Comedy': 1555, 'Animation|Fantasy|Romance': 1556, 'Action|Thriller|Drama': 1557, 'Science Fiction|Action|Adventure|Thriller': 1558, 'Western|Animation|Adventure|Comedy|Family': 1559, 'Science Fiction|Adventure|Action': 1560, 'Action|Comedy|Horror|Thriller': 1561, 'Drama|Fantasy|Horror': 1562, 'Adventure|Drama|Action|Family': 1563, 'Adventure|Comedy|Drama|Fantasy|Mystery': 1564, 'Drama|Science Fiction|Mystery|Romance': 1565, 'Drama|Action|Thriller|Romance': 1566, 'Comedy|Crime|Drama|Romance|Thriller': 1567, 'Adventure|Family|Science Fiction|Thriller': 1568, 'Drama|Comedy|Family|TV Movie': 1569, 'Action|Adventure|Comedy|Drama|Family': 1570, 'Drama|Thriller|Romance|Crime': 1571, 'TV Movie|Horror|Science Fiction|Thriller': 1572, 'Action|Adventure|Crime|Drama': 1573, 'Comedy|Drama|History|Romance': 1574, 'Mystery|Drama|Adventure': 1575, 'Comedy|Family|Mystery|TV Movie': 1576, 'Action|Adventure|Family|Foreign': 1577, 'Action|Thriller|Crime|Foreign': 1578, 'Action|Adventure|Animation|Fantasy': 1579, 'Family|Animation|Drama': 1580, 'Comedy|Action|Crime': 1581, 'Adventure|Animation|Romance': 1582, 'Romance|Comedy|Crime|Fantasy': 1583, 'Action|Adventure|Comedy|Drama|Western': 1584, 'Crime|Thriller|Drama': 1585, 'Adventure|Drama|Fantasy|Horror': 1586, 'Action|Comedy|Drama|Family': 1587, 'Adventure|Fantasy|Action|Thriller|Science Fiction': 1588, 'Fantasy|Science Fiction|Family|Animation': 1589, 'Comedy|Crime|Music': 1590, 'Thriller|Drama|Romance|Mystery': 1591, 'Family|Comedy|Crime': 1592, 'Drama|Horror|Science Fiction|Romance': 1593, 'Fantasy|Animation|Science Fiction|Family': 1594, 'Thriller|Foreign': 1595, 'Action|Comedy|Drama|Western': 1596, 'Romance|Comedy|Family': 1597, 'Action|Adventure|Horror|Science Fiction|Foreign': 1598, 'Comedy|Family|Thriller': 1599, 'Action|Comedy|Romance|Foreign': 1600, 'Action|Adventure|Comedy|Western': 1601, 'Science Fiction|Adventure|Mystery': 1602, 'Animation|Adventure|Comedy|Family|Action': 1603, 'Comedy|Music|Romance': 1604, 'Action|Horror|Fantasy': 1605, 'Romance|Science Fiction|Drama|Fantasy': 1606, 'Thriller|Action|Adventure|Science Fiction': 1607, 'Animation|Family|Fantasy|Adventure': 1608, 'Animation|Adventure|Family|Comedy': 1609, 'Adventure|Drama|Romance': 1610, 'Horror|Thriller|Comedy': 1611, 'Comedy|Crime|Family': 1612, 'Drama|Fantasy|Thriller': 1613, 'Action|Comedy|Thriller|Crime|Romance': 1614, 'TV Movie|Adventure': 1615, 'Action|Science Fiction|Thriller|War': 1616, 'Drama|Comedy|Romance|Science Fiction': 1617, 'Family|Adventure|Comedy': 1618, 'Thriller|Action|Science Fiction|Horror|Mystery': 1619, 'Horror|Romance|Thriller': 1620, 'Action|History': 1621, 'Adventure|Science Fiction|Thriller|Mystery': 1622, 'Thriller|Action|Crime|Drama': 1623, 'Comedy|Fantasy|Thriller': 1624, 'Science Fiction|Comedy|Drama|Crime': 1625, 'Drama|Science Fiction|Mystery': 1626, 'Music|Comedy|Romance|Drama': 1627, 'Fantasy|Animation': 1628, 'Action|Animation|Thriller': 1629, 'Science Fiction|Comedy|Thriller|Horror': 1630, 'Adventure|TV Movie': 1631, 'TV Movie|Comedy|Drama': 1632, 'Adventure|Animation|Action|Foreign': 1633, 'Family|Animation|Comedy|Romance': 1634, 'Romance|Drama|Mystery|Thriller|Horror': 1635, 'Family|Music|TV Movie': 1636, 'Drama|History|Romance|TV Movie': 1637, 'Documentary|Adventure': 1638, 'Comedy|Science Fiction|Music': 1639, 'Fantasy|Animation|Comedy|Drama': 1640, 'Crime|Drama|History|Documentary': 1641, 'Romance|Comedy|Family|Fantasy': 1642, 'Drama|Action|War|History': 1643, 'Fantasy|Animation|Science Fiction|Family|Action': 1644, 'Comedy|Fantasy|Family': 1645, 'Adventure|Family|Drama|Comedy': 1646, 'Comedy|Drama|Crime|Thriller': 1647, 'Action|Adventure|Comedy|Family|Science Fiction': 1648, 'Comedy|Adventure|Crime': 1649, 'Action|Adventure|Drama|History|War': 1650, 'Drama|Thriller|Foreign|Action|Crime': 1651, 'Fantasy|Animation|Comedy|Science Fiction|Family': 1652, 'Thriller|Western|Adventure': 1653, 'Drama|Comedy|Thriller|Romance|Foreign': 1654, 'Drama|Science Fiction|Fantasy|Adventure': 1655, 'Drama|Romance|Crime': 1656, 'Horror|Action|Comedy|Science Fiction': 1657, 'Comedy|Drama|Fantasy|Music': 1658, 'Action|Crime|Fantasy|Science Fiction': 1659, 'Action|Adventure|Science Fiction|Comedy': 1660, 'Science Fiction|Horror|Action': 1661, 'Horror|Science Fiction|Mystery': 1662, 'Action|Thriller|Adventure|Crime': 1663, 'Thriller|Action|Romance|Science Fiction|Adventure': 1664, 'History|Drama|Adventure|War': 1665, 'Action|Adventure|Fantasy|Horror|Science Fiction': 1666, 'Action|Drama|Horror|Mystery|Thriller': 1667, 'Fantasy|Adventure|Comedy|Family': 1668, 'Adventure|Fantasy|Drama|Comedy|Music': 1669, 'Comedy|Family|Drama': 1670, 'Comedy|Thriller|Crime|Action': 1671, 'Science Fiction|Drama|Comedy': 1672, 'Action|Adventure|Comedy|Family|Fantasy': 1673, 'Action|Adventure|Mystery|Thriller': 1674, 'Thriller|Comedy|Family|Horror': 1675, 'Fantasy|Mystery': 1676, 'Action|Science Fiction|Adventure|Mystery': 1677, 'Romance|Science Fiction|Drama': 1678, 'Science Fiction|Action|Thriller': 1679, 'Adventure|Comedy|Drama|Fantasy': 1680, 'Action|Crime|Drama|Comedy|Thriller': 1681, 'Action|Adventure|Drama|Mystery|Romance': 1682, 'Fantasy|Action|Comedy|Crime': 1683, 'Action|Adventure|Western': 1684, 'Mystery|Drama|Crime|Thriller': 1685, 'Action|Adventure|Romance|Science Fiction|Thriller': 1686, 'Drama|Thriller|Mystery|Action': 1687, 'Action|Science Fiction|Horror': 1688, 'Science Fiction|Thriller|Horror': 1689, 'Drama|Romance|Crime|Mystery': 1690, 'Fantasy|Family|Comedy|Animation': 1691, 'Action|Comedy|Drama|Romance|Thriller': 1692, 'Thriller|Horror|Crime': 1693, 'Drama|Comedy|Music': 1694, 'Family|Fantasy|Animation|Adventure': 1695, 'Comedy|Fantasy|Horror': 1696, 'Action|Adventure|Drama|Fantasy': 1697, 'Western|Thriller': 1698, 'Thriller|Action|Crime|Drama|Mystery': 1699, 'Action|Animation|Comedy': 1700, 'Adventure|Fantasy|Horror|Comedy': 1701, 'Comedy|Action|Science Fiction|Thriller': 1702, 'Comedy|Animation|Family|Fantasy': 1703, 'Horror|Thriller|Comedy|Action': 1704, 'Family|Fantasy|Comedy': 1705, 'Thriller|Mystery|Crime': 1706, 'Crime|Horror|Action|Thriller': 1707, 'Music|Drama|Fantasy|Romance': 1708, 'Mystery|Action|Adventure|Horror': 1709, 'Documentary|History|Music': 1710, 'Romance|Crime|Comedy': 1711, 'Horror|Documentary|Mystery': 1712, 'TV Movie|Romance|Comedy|Drama': 1713, 'Crime|Drama|Romance|Thriller': 1714, 'Comedy|Thriller|Crime|Mystery': 1715, 'Action|Adventure|Comedy|Romance': 1716, 'Adventure|Drama|Action|Thriller|Crime': 1717, 'Comedy|Thriller|Drama': 1718, 'Action|Crime|Drama|Western': 1719, 'Action|Adventure|Crime|Drama|Family': 1720, 'Comedy|Family|Music|Romance': 1721, 'Adventure|Family|Fantasy|Romance|Science Fiction': 1722, 'Adventure|Comedy|Family|Science Fiction': 1723, 'Action|Comedy|Drama|Family|Thriller': 1724, 'Action|Crime|Adventure': 1725, 'Action|Comedy|Drama|Thriller': 1726, 'Family|Fantasy|Science Fiction|Adventure': 1727, 'Adventure|Horror': 1728, 'Comedy|Family|Adventure|Fantasy|Romance': 1729, 'Romance|Drama|History': 1730, 'Action|Adventure|Science Fiction|Thriller|Horror': 1731, 'Drama|Action|History|Thriller': 1732, 'Crime|Drama|Thriller|Action': 1733, 'Adventure|Fantasy|Drama|Science Fiction|Family': 1734, 'Comedy|Family|Adventure|Romance': 1735, 'Thriller|Science Fiction|Adventure|Action': 1736, 'Family|Adventure|Comedy|Music|Fantasy': 1737, 'Comedy|Crime|Drama|Romance': 1738, 'Action|Fantasy|Horror|Thriller': 1739, 'Drama|Foreign|War': 1740, 'Comedy|Drama|Romance|TV Movie': 1741, 'Fantasy|Adventure|Action|Drama': 1742, 'Science Fiction|Action|Comedy': 1743, 'Drama|Foreign|Horror|Mystery|Thriller': 1744, 'Action|Adventure|Animation|Drama|Family': 1745, 'Adventure|Drama|Thriller|Action': 1746, 'Documentary|Comedy|TV Movie': 1747, 'Drama|Crime|Mystery': 1748, 'Music|Drama|Romance|Crime': 1749, 'Crime|Fantasy|Drama': 1750, 'Music|Animation|Comedy|Family': 1751, 'Fantasy|Adventure|Animation|Comedy|Family': 1752, 'Comedy|Drama|Family|Fantasy|Romance': 1753, 'Animation|Science Fiction|Thriller': 1754, 'Adventure|Action|Family': 1755, 'Fantasy|Romance|Family|Comedy': 1756, 'Adventure|Family|Foreign': 1757, 'War|Crime|Drama|Mystery|Romance': 1758, 'Romance|Comedy|Drama|Foreign': 1759, 'Romance|Drama|Family': 1760, 'Comedy|Drama|Romance|Thriller': 1761, 'TV Movie|Fantasy|Animation|Action|Thriller': 1762, 'Adventure|Comedy|Drama|Science Fiction': 1763, 'Animation|Comedy|Foreign': 1764, 'Action|Fantasy|Mystery': 1765, 'Animation|Family|Foreign': 1766, 'Adventure|Comedy|Family|Fantasy|TV Movie': 1767, 'Animation|Family|Music': 1768, 'Action|Adventure|Romance|Thriller': 1769, 'Family|Comedy|Romance': 1770, 'TV Movie|Family|Comedy|Adventure|Crime': 1771, 'Action|Crime|Drama|Music|Thriller': 1772, 'Drama|Action|Foreign': 1773, 'Horror|Adventure|Action': 1774, 'Adventure|Fantasy|Comedy|Family': 1775, 'Animation|Comedy|Family|Action': 1776, 'Western|History|War': 1777, 'Western|Adventure': 1778, 'War|Drama|Mystery|Romance': 1779, 'Action|Comedy|Horror|Western': 1780, 'Drama|Action|Science Fiction': 1781, 'Crime|Drama|Horror|Mystery|Science Fiction': 1782, 'Action|Drama|War|Thriller': 1783, 'Thriller|Adventure|Action|Comedy|Drama': 1784, 'Action|Horror|Comedy|Science Fiction|Thriller': 1785, 'Comedy|Family|Music|TV Movie': 1786, 'Family|Action|Adventure': 1787, 'Romance|Comedy|Drama|Family': 1788, 'Action|Animation|Science Fiction|Thriller': 1789, 'Horror|Thriller|Western': 1790, 'Action|Comedy|Romance|Science Fiction|Thriller': 1791, 'Horror|Romance|Comedy': 1792, 'Comedy|Thriller|Crime|Foreign': 1793, 'Action|Drama|Western': 1794, 'Music|Comedy|Action|Crime': 1795, 'Action|Drama|History|Western': 1796, 'Action|Adventure|Comedy|Family|Music': 1797, 'Mystery|Drama|Fantasy|Science Fiction|Thriller': 1798, 'Western|History': 1799, 'Adventure|Fantasy|Family|Mystery': 1800, 'Adventure|Fantasy|Romance|Family': 1801, 'Thriller|Action|Fantasy|Horror': 1802, 'Crime|Action|Comedy': 1803, 'Comedy|Adventure|Fantasy|Action|Science Fiction': 1804, 'Animation|Romance|Family|Fantasy': 1805, 'Action|Thriller|Comedy|Crime': 1806, 'Action|Horror|Crime': 1807, 'Thriller|Crime|Drama|Horror': 1808, 'Adventure|Animation|Comedy|Fantasy|Family': 1809, 'Action|Adventure|Drama|Fantasy|Family': 1810, 'Adventure|Drama|Fantasy|Family|Thriller': 1811, 'Science Fiction|Action|Adventure|Animation|Family': 1812, 'Action|Animation|Family|Fantasy|Science Fiction': 1813, 'Adventure|Drama|Music|Romance': 1814, 'Action|Adventure|Thriller|Drama': 1815, 'Drama|Fantasy|Horror|Romance': 1816, 'Adventure|Drama|Horror': 1817, 'Crime|Drama|Music': 1818, 'Action|Thriller|Foreign': 1819, 'Comedy|Drama|Romance|Fantasy|Music': 1820, 'Action|Adventure|Fantasy|War': 1821, 'Drama|Horror|Action|Thriller': 1822, 'Thriller|Drama|Horror|Fantasy': 1823, 'Comedy|Crime|Thriller|Romance': 1824, 'Animation|Family|Fantasy|Romance': 1825, 'Fantasy|Horror|Action|Science Fiction': 1826, 'Drama|Comedy|Thriller': 1827, 'Fantasy|Action|Horror|Science Fiction|Drama': 1828, 'Action|Adventure|Horror': 1829, 'Action|Adventure|Animation|Family|Mystery': 1830, 'Fantasy|Comedy|Mystery': 1831, 'TV Movie|Drama|Fantasy': 1832, 'Mystery|Crime|Drama': 1833, 'Drama|Foreign|Science Fiction': 1834, 'Drama|Romance|War|Foreign': 1835, 'TV Movie|Comedy|Romance|Family': 1836, 'Adventure|Fantasy|Drama|Action|Science Fiction': 1837, 'Action|Adventure|Thriller|Science Fiction': 1838, 'Drama|Comedy|History|Music': 1839, 'Adventure|Family|Science Fiction|Action': 1840, 'Western|Comedy': 1841, 'Comedy|Family|Western': 1842, 'Drama|Family|Music|Romance': 1843, 'Action|Adventure|Drama|Romance|Science Fiction': 1844, 'Mystery|Thriller|Crime|Drama': 1845, 'TV Movie|Fantasy|Drama|Comedy|Family': 1846, 'Music|Drama|Crime|Romance': 1847, 'Action|Adventure|Crime|Drama|Mystery': 1848, 'Adventure|Drama|Action|Romance': 1849, 'Action|Thriller|Music': 1850, 'Action|Adventure|Comedy|Drama|Thriller': 1851, 'Drama|Mystery|War': 1852, 'Thriller|Crime|Science Fiction': 1853, 'Action|Science Fiction|Comedy': 1854, 'Crime|Drama|Science Fiction|Thriller': 1855, 'Music|Family|Drama': 1856, 'Mystery|Drama|Horror|Thriller': 1857, 'Drama|Fantasy|Horror|Science Fiction|Thriller': 1858, 'Action|Thriller|Drama|Western|Crime': 1859, 'Horror|Music': 1860, 'Adventure|Crime|Drama': 1861, 'Science Fiction|Thriller|Mystery': 1862, 'Crime|Drama|Mystery|Thriller|Action': 1863, 'Fantasy|Drama|Comedy|Thriller': 1864, 'Action|Adventure|Drama|Thriller|Western': 1865, 'Action|Fantasy|Comedy|Science Fiction': 1866, 'Drama|Fantasy|Western': 1867, 'Action|Crime|Drama|History': 1868, 'Adventure|Fantasy|Comedy|Science Fiction|Family': 1869, 'Drama|History|War|Romance': 1870, 'Adventure|Action|Western|Thriller|Mystery': 1871, 'Romance|Horror': 1872, 'Thriller|Action|Drama|Music|Romance': 1873, 'Comedy|Family|Fantasy|Drama': 1874, 'Horror|Thriller|War': 1875, 'Thriller|Comedy|Horror|Science Fiction': 1876, 'Comedy|Horror|Mystery|Thriller': 1877, 'Fantasy|Thriller|Horror': 1878, 'Adventure|Action|Family|Comedy': 1879, 'Thriller|Action|Horror|Science Fiction|Crime': 1880, 'Drama|Music|Family': 1881, 'Comedy|Horror|Thriller|Crime': 1882, 'Crime|History': 1883, 'Action|Drama|History|Thriller': 1884, 'Adventure|War|Drama|History': 1885, 'Family|Fantasy|Science Fiction|Adventure|Comedy': 1886, 'Horror|Drama|Romance': 1887, 'Horror|Crime|Drama|Thriller': 1888, 'Crime|Family|Comedy': 1889, 'TV Movie|Horror|Mystery': 1890, 'Family|Fantasy|Animation': 1891, 'Animation|Comedy|Drama|Family|Fantasy': 1892, 'Drama|Thriller|Mystery|War': 1893, 'Action|Comedy|Music|Family|Adventure': 1894, 'Comedy|Fantasy|Horror|Science Fiction': 1895, 'Drama|History|War|Action': 1896, 'Comedy|Drama|Romance|Music': 1897, 'Science Fiction|Comedy|Family|Romance': 1898, 'Drama|Adventure|Romance|Thriller': 1899, 'Animation|Action|Science Fiction|Family|Adventure': 1900, 'Action|Adventure|Comedy|Fantasy': 1901, 'History|Drama|Romance': 1902, 'Action|Comedy|Drama|Romance': 1903, 'Drama|Music|Romance|War': 1904, 'Action|Crime|Foreign|Thriller': 1905, 'Drama|Romance|Family': 1906, 'Drama|Family|Comedy|TV Movie': 1907, 'Family|Animation|Music|Drama': 1908, 'Science Fiction|Adventure|Family|Fantasy': 1909, 'Science Fiction|Action|Adventure|Drama|Thriller': 1910, 'Fantasy|Animation|Drama|Family': 1911, 'Western|Comedy|Drama|Music': 1912, 'War|Drama|Romance': 1913, 'Drama|Horror|Fantasy': 1914, 'Adventure|Animation|Drama': 1915, 'TV Movie|Crime|Drama': 1916, 'Drama|Foreign|Crime': 1917, 'Adventure|Animation|Drama|Family|Music': 1918, 'Mystery|Science Fiction': 1919, 'Adventure|Family|Science Fiction': 1920, 'History': 1921, 'Adventure|Comedy|Western|Romance|Thriller': 1922, 'Comedy|Family|Drama|Fantasy': 1923, 'Fantasy|Animation|Drama|Romance|Family': 1924, 'Comedy|Family|Fantasy|Thriller|TV Movie': 1925, 'Action|Drama|Fantasy|Horror|Thriller': 1926, 'Romance|Comedy|Drama|Music': 1927, 'Music|Action|Comedy|Crime': 1928, 'Action|Animation|Crime': 1929, 'Drama|Thriller|Mystery|Music|Romance': 1930, 'Action|War|Science Fiction': 1931, 'Adventure|Comedy|Family|Fantasy|Horror': 1932, 'Drama|Horror|Romance|Foreign': 1933, 'Drama|Thriller|TV Movie': 1934, 'Action|Adventure|Drama|Foreign': 1935, 'Crime|Drama|Romance|Foreign': 1936, 'Action|Comedy|Thriller|Crime|Family': 1937, 'Foreign|Crime|Drama': 1938, 'Comedy|Fantasy|Foreign': 1939, 'Fantasy|Horror|Mystery': 1940, 'Fantasy|Drama|Comedy|Science Fiction|Family': 1941, 'Comedy|Horror|Action|Science Fiction': 1942, 'War|Drama|History|Action|Romance': 1943, 'Mystery|Drama|Science Fiction|Thriller': 1944, 'Adventure|Comedy|Drama|Family|Romance': 1945, 'Drama|Western|Adventure': 1946, 'Action|Comedy|Crime|Mystery|Thriller': 1947, 'Romance|Family|Animation|Fantasy|Music': 1948, 'Comedy|Drama|Horror|Mystery|Thriller': 1949, 'Drama|Action|Comedy|Music|Romance': 1950, 'Horror|Comedy|Family': 1951, 'Mystery': 1952, 'Thriller|Horror|Comedy|Science Fiction': 1953, 'Action|Comedy|Thriller|Family': 1954, 'Fantasy|Animation|Comedy|Crime|Family': 1955, 'Comedy|Family|Science Fiction|Drama': 1956, 'Fantasy|Horror|Comedy|Science Fiction': 1957, 'Family|Fantasy|Science Fiction': 1958, 'Action|Crime|Music|Fantasy|Thriller': 1959, 'War|History': 1960, 'Action|Adventure|Crime|Romance|Thriller': 1961, 'Thriller|Drama|Horror|Science Fiction': 1962, 'TV Movie|Animation|Family|Mystery|Comedy': 1963, 'Adventure|Thriller': 1964, 'Horror|Drama|Romance|Thriller': 1965, 'Crime|Drama|Action|Thriller|Mystery': 1966, 'Horror|Comedy|Action|Fantasy|Science Fiction': 1967, 'Action|Adventure|Family': 1968, 'Animation|Science Fiction|Fantasy|Adventure': 1969, 'Comedy|Thriller|Music|Romance': 1970, 'TV Movie|Drama|Family': 1971, 'Science Fiction|Mystery|Adventure': 1972, 'Adventure|Science Fiction|Mystery': 1973, 'Romance|Crime|Thriller|Drama': 1974, 'Action|Adventure|Romance': 1975, 'Drama|Horror|History': 1976, 'Action|Crime|Drama|Thriller|Western': 1977, 'Action|Adventure|Drama|History|TV Movie': 1978, 'Adventure|Family|Romance': 1979, 'Thriller|Horror|War': 1980, 'Action|Crime|Western': 1981, 'Adventure|Drama|History|War': 1982, 'Comedy|Music|Family': 1983, 'Drama|Mystery|Horror': 1984, 'Comedy|Music|Family|Fantasy': 1985, 'Drama|Thriller|Crime|Mystery|Comedy': 1986, 'Thriller|Action|War': 1987, 'Adventure|Fantasy|Animation|Comedy|Family': 1988, 'Mystery|Comedy|Drama': 1989, 'Adventure|Animation|Family|Comedy|Fantasy': 1990, 'War|Action|Science Fiction': 1991, 'Action|Thriller|Science Fiction|Crime|Horror': 1992, 'Action|Science Fiction|Crime': 1993, 'Thriller|Drama|Romance|Crime': 1994, 'Drama|Action|Comedy|Crime|Thriller': 1995, 'Action|Comedy|Thriller|Crime|Mystery': 1996, 'Drama|War|Action': 1997, 'Drama|Crime|Mystery|Comedy': 1998, 'Western|Action|Adventure': 1999, 'Fantasy|Science Fiction|Family': 2000, 'Fantasy|Drama|Action|Foreign|Adventure': 2001, 'Thriller|Adventure|Fantasy|Science Fiction|Romance': 2002, 'Thriller|Music|Comedy|Crime': 2003, 'Action|Drama|Romance|Western': 2004, 'Action|Adventure|Drama|History|Western': 2005, 'Action|Drama|Foreign|History|War': 2006, 'Adventure|Drama|Action|Thriller|War': 2007, 'Action|Foreign|Fantasy': 2008, 'Horror|Mystery|Thriller|Crime': 2009, 'Comedy|Crime|Romance|Drama': 2010, 'Action|Adventure|History|War': 2011, 'Mystery|Drama|Comedy': 2012, 'Western|Drama|Comedy|Romance': 2013, 'Adventure|Action|Comedy|Foreign': 2014, 'Adventure|Fantasy|Comedy|Family|Music': 2015, 'Comedy|Adventure|Action|Crime': 2016, 'Adventure|Drama|History|Thriller|War': 2017, 'Comedy|Romance|Western': 2018, 'Adventure|Drama|Action|Romance|Family': 2019, 'Horror|Science Fiction|Fantasy': 2020, 'Drama|Music|Mystery|Romance': 2021, 'Horror|Thriller|Crime|Drama': 2022, 'Drama|Family|Fantasy|Science Fiction': 2023, 'Comedy|Horror|Music': 2024, 'Drama|Romance|History': 2025, 'Action|Thriller|Drama|Crime': 2026, 'History|Action|Drama|Adventure|War': 2027, 'Adventure|Comedy|Crime|Mystery|Romance': 2028, 'Action|Adventure|War|Western': 2029, 'History|Drama|Western|Crime': 2030, 'Family|Animation|TV Movie': 2031, 'Action|Comedy|Drama|Romance|War': 2032, 'Action|Adventure|Comedy|Fantasy|Science Fiction': 2033, 'Horror|Drama|Thriller|Science Fiction': 2034, 'Horror|Mystery|TV Movie|Thriller': 2035, 'Thriller|Adventure|History|Drama': 2036, 'Comedy|Drama|Foreign|Thriller': 2037, 'Adventure|Drama|War|History|Action': 2038, 'Adventure|Comedy|Fantasy|Science Fiction': 2039}\n"
     ]
    }
   ],
   "source": [
    "print(\"Mapping of first categorical feasture column: %s\" % get_mappings(records, 0))"
   ]
  },
  {
   "cell_type": "code",
   "execution_count": null,
   "metadata": {},
   "outputs": [],
   "source": [
    "# Apply Mapping function to each categorical column (0, 1)"
   ]
  },
  {
   "cell_type": "code",
   "execution_count": 11,
   "metadata": {},
   "outputs": [
    {
     "name": "stdout",
     "output_type": "stream",
     "text": [
      "index: 0\n",
      "index: 1\n"
     ]
    }
   ],
   "source": [
    "mappings = [get_mappings(records, i) for i in range(0,2)]\n",
    "\n",
    "cat_len = sum([len(b) for b in mappings])\n",
    "num_len = len(records.first()[2:8])\n",
    "total_len = num_len + cat_len"
   ]
  },
  {
   "cell_type": "code",
   "execution_count": null,
   "metadata": {},
   "outputs": [],
   "source": [
    "# We now have the mappings for each variable, \n",
    "# and we can see how many values in total we need for our binary vector representation:"
   ]
  },
  {
   "cell_type": "code",
   "execution_count": 12,
   "metadata": {},
   "outputs": [
    {
     "name": "stdout",
     "output_type": "stream",
     "text": [
      "Feature vector length for categorical features: 2096\n",
      "Feature vector length for numerical features: 6\n",
      "Total feature vector length: 2102\n"
     ]
    }
   ],
   "source": [
    "print(\"Feature vector length for categorical features: %d\" % cat_len)\n",
    "print(\"Feature vector length for numerical features: %d\" % num_len)\n",
    "print(\"Total feature vector length: %d\" % total_len)"
   ]
  },
  {
   "cell_type": "code",
   "execution_count": 13,
   "metadata": {},
   "outputs": [],
   "source": [
    "# The next step is to use our extracted mappings to convert the categorical features to binary-encoded features."
   ]
  },
  {
   "cell_type": "code",
   "execution_count": 14,
   "metadata": {},
   "outputs": [],
   "source": [
    "def extract_features(record):\n",
    "    cat_vec = np.zeros(cat_len)\n",
    "    i = 0\n",
    "    step = 0\n",
    "    for field in record[0:1]: # catogorical feature\n",
    "        print('extract_features', i)\n",
    "        m = mappings[i]\n",
    "        idx = m[field]\n",
    "        cat_vec[idx + step] = 1\n",
    "        i = i + 1\n",
    "        step = step + len(m)\n",
    "    num_vec = np.array([float(field) for field in record[1:7]])\n",
    "    return np.concatenate((cat_vec, num_vec))\n",
    "\n"
   ]
  },
  {
   "cell_type": "code",
   "execution_count": 15,
   "metadata": {},
   "outputs": [],
   "source": [
    "# The extract_label function simply converts the last column variable (Revenue) into a float"
   ]
  },
  {
   "cell_type": "code",
   "execution_count": 16,
   "metadata": {},
   "outputs": [],
   "source": [
    "def extract_label(record):\n",
    "    return float(record[-1])"
   ]
  },
  {
   "cell_type": "code",
   "execution_count": null,
   "metadata": {},
   "outputs": [],
   "source": []
  },
  {
   "cell_type": "code",
   "execution_count": null,
   "metadata": {},
   "outputs": [],
   "source": []
  },
  {
   "cell_type": "code",
   "execution_count": 17,
   "metadata": {},
   "outputs": [],
   "source": [
    "#### 2.1 Decision Tree #######"
   ]
  },
  {
   "cell_type": "code",
   "execution_count": 18,
   "metadata": {},
   "outputs": [],
   "source": [
    "# decision tree models typically work on raw features"
   ]
  },
  {
   "cell_type": "code",
   "execution_count": 19,
   "metadata": {},
   "outputs": [],
   "source": [
    "def extract_features_dt(record):\n",
    "    return np.array(map(float, record[0:6]))"
   ]
  },
  {
   "cell_type": "code",
   "execution_count": 20,
   "metadata": {},
   "outputs": [],
   "source": [
    "# Extract the Data so that we are ready for training and prediction on Decision Tree model"
   ]
  },
  {
   "cell_type": "code",
   "execution_count": 21,
   "metadata": {},
   "outputs": [],
   "source": [
    "data_dt = records.map(lambda r: LabeledPoint(extract_label(r), extract_features(r)))"
   ]
  },
  {
   "cell_type": "code",
   "execution_count": 22,
   "metadata": {},
   "outputs": [],
   "source": [
    "# Show the Label and Feature Vector from the Dataset \n",
    "# 2.1.1 Decision Tree Categorical features"
   ]
  },
  {
   "cell_type": "code",
   "execution_count": 23,
   "metadata": {},
   "outputs": [
    {
     "name": "stdout",
     "output_type": "stream",
     "text": [
      "Raw data: ['32.985763', '150000000', '124', '5562', '6.5', '1513528810']\n",
      "Decision Tree Label: 1513528810.0\n",
      "Decision Tree feature vector: [0.0,0.0,0.0,0.0,0.0,0.0,0.0,0.0,0.0,0.0,0.0,0.0,0.0,0.0,0.0,0.0,0.0,0.0,0.0,0.0,0.0,0.0,0.0,0.0,0.0,0.0,0.0,0.0,0.0,0.0,0.0,0.0,0.0,0.0,0.0,0.0,0.0,0.0,0.0,0.0,0.0,0.0,0.0,0.0,0.0,0.0,0.0,0.0,0.0,0.0,0.0,0.0,0.0,0.0,0.0,0.0,0.0,0.0,0.0,0.0,0.0,0.0,0.0,0.0,0.0,0.0,0.0,0.0,0.0,0.0,0.0,0.0,0.0,0.0,0.0,0.0,0.0,0.0,0.0,0.0,0.0,0.0,0.0,0.0,0.0,0.0,0.0,0.0,0.0,0.0,0.0,0.0,0.0,0.0,0.0,0.0,0.0,0.0,0.0,0.0,0.0,0.0,0.0,0.0,0.0,0.0,0.0,0.0,0.0,0.0,0.0,0.0,0.0,0.0,0.0,0.0,0.0,0.0,0.0,0.0,0.0,0.0,0.0,0.0,0.0,0.0,0.0,0.0,0.0,0.0,0.0,0.0,0.0,0.0,0.0,0.0,0.0,0.0,0.0,0.0,0.0,0.0,0.0,0.0,0.0,0.0,0.0,0.0,0.0,0.0,0.0,0.0,0.0,0.0,0.0,0.0,0.0,0.0,0.0,0.0,0.0,0.0,0.0,0.0,0.0,0.0,0.0,0.0,0.0,0.0,0.0,0.0,0.0,0.0,0.0,0.0,0.0,0.0,0.0,0.0,0.0,0.0,0.0,0.0,0.0,0.0,0.0,0.0,0.0,0.0,0.0,0.0,0.0,0.0,0.0,0.0,0.0,0.0,0.0,0.0,0.0,0.0,0.0,0.0,0.0,0.0,0.0,0.0,0.0,0.0,0.0,0.0,0.0,0.0,0.0,0.0,0.0,0.0,0.0,0.0,0.0,0.0,0.0,0.0,0.0,0.0,0.0,0.0,0.0,0.0,0.0,0.0,0.0,0.0,0.0,0.0,0.0,0.0,0.0,0.0,0.0,0.0,0.0,0.0,0.0,0.0,0.0,0.0,0.0,0.0,0.0,0.0,0.0,0.0,0.0,0.0,0.0,0.0,0.0,0.0,0.0,0.0,0.0,0.0,0.0,0.0,0.0,0.0,0.0,0.0,0.0,0.0,0.0,0.0,0.0,0.0,0.0,0.0,0.0,0.0,0.0,0.0,0.0,0.0,0.0,0.0,0.0,0.0,0.0,0.0,0.0,0.0,0.0,0.0,0.0,0.0,0.0,0.0,0.0,0.0,0.0,0.0,0.0,0.0,0.0,0.0,0.0,0.0,0.0,0.0,0.0,0.0,0.0,0.0,0.0,0.0,0.0,0.0,0.0,0.0,0.0,0.0,0.0,0.0,0.0,0.0,0.0,0.0,0.0,0.0,0.0,0.0,0.0,0.0,0.0,0.0,0.0,0.0,0.0,0.0,0.0,0.0,0.0,0.0,0.0,0.0,0.0,0.0,0.0,0.0,0.0,0.0,0.0,0.0,0.0,0.0,0.0,0.0,0.0,0.0,0.0,0.0,0.0,0.0,0.0,0.0,0.0,0.0,0.0,0.0,0.0,0.0,0.0,0.0,0.0,0.0,0.0,0.0,0.0,0.0,0.0,0.0,0.0,0.0,0.0,0.0,0.0,0.0,0.0,0.0,0.0,0.0,0.0,0.0,0.0,0.0,0.0,0.0,0.0,0.0,0.0,0.0,0.0,0.0,0.0,0.0,0.0,0.0,0.0,0.0,0.0,0.0,0.0,0.0,0.0,0.0,0.0,0.0,0.0,0.0,0.0,0.0,0.0,0.0,0.0,0.0,0.0,0.0,0.0,0.0,0.0,0.0,0.0,0.0,0.0,0.0,0.0,0.0,0.0,0.0,0.0,0.0,0.0,0.0,0.0,0.0,0.0,0.0,0.0,0.0,0.0,0.0,0.0,0.0,0.0,0.0,0.0,0.0,0.0,0.0,0.0,0.0,0.0,0.0,0.0,0.0,0.0,0.0,0.0,0.0,0.0,0.0,0.0,0.0,0.0,0.0,0.0,0.0,0.0,0.0,0.0,0.0,0.0,0.0,0.0,0.0,0.0,0.0,0.0,0.0,0.0,0.0,0.0,0.0,0.0,0.0,0.0,0.0,0.0,0.0,0.0,0.0,0.0,0.0,0.0,0.0,0.0,0.0,0.0,0.0,0.0,0.0,0.0,0.0,0.0,0.0,0.0,0.0,0.0,0.0,0.0,0.0,0.0,0.0,0.0,0.0,0.0,0.0,0.0,0.0,0.0,0.0,0.0,0.0,0.0,0.0,0.0,0.0,0.0,0.0,0.0,0.0,0.0,0.0,0.0,0.0,0.0,0.0,0.0,0.0,0.0,0.0,0.0,0.0,0.0,0.0,0.0,0.0,0.0,0.0,0.0,0.0,0.0,0.0,0.0,0.0,0.0,0.0,0.0,0.0,0.0,0.0,0.0,0.0,0.0,0.0,0.0,0.0,0.0,0.0,0.0,0.0,0.0,0.0,0.0,0.0,0.0,0.0,0.0,0.0,0.0,0.0,0.0,0.0,0.0,0.0,0.0,0.0,0.0,0.0,0.0,0.0,0.0,0.0,0.0,0.0,0.0,0.0,0.0,0.0,0.0,0.0,0.0,0.0,0.0,0.0,0.0,0.0,0.0,0.0,0.0,0.0,0.0,0.0,0.0,0.0,0.0,0.0,0.0,0.0,0.0,0.0,0.0,0.0,0.0,0.0,0.0,0.0,0.0,0.0,0.0,0.0,0.0,0.0,0.0,0.0,0.0,0.0,0.0,0.0,0.0,0.0,0.0,0.0,0.0,0.0,0.0,0.0,0.0,0.0,0.0,0.0,0.0,0.0,0.0,0.0,0.0,0.0,0.0,0.0,0.0,0.0,0.0,0.0,0.0,0.0,0.0,0.0,0.0,0.0,0.0,0.0,0.0,0.0,0.0,0.0,0.0,0.0,0.0,0.0,0.0,0.0,0.0,0.0,0.0,0.0,0.0,0.0,0.0,0.0,0.0,0.0,0.0,0.0,0.0,0.0,0.0,0.0,0.0,0.0,0.0,0.0,0.0,0.0,0.0,0.0,0.0,0.0,0.0,0.0,0.0,0.0,0.0,0.0,0.0,0.0,0.0,0.0,0.0,0.0,0.0,0.0,0.0,0.0,0.0,0.0,0.0,0.0,0.0,0.0,0.0,0.0,0.0,0.0,0.0,0.0,0.0,0.0,0.0,0.0,0.0,0.0,0.0,0.0,0.0,0.0,0.0,0.0,0.0,0.0,0.0,0.0,0.0,0.0,0.0,0.0,0.0,0.0,0.0,0.0,0.0,0.0,0.0,0.0,0.0,0.0,0.0,0.0,0.0,0.0,0.0,0.0,0.0,0.0,0.0,0.0,0.0,0.0,0.0,0.0,0.0,0.0,0.0,0.0,0.0,0.0,0.0,0.0,0.0,0.0,0.0,0.0,0.0,0.0,0.0,0.0,0.0,0.0,0.0,0.0,0.0,0.0,0.0,0.0,0.0,0.0,0.0,0.0,0.0,0.0,0.0,0.0,0.0,0.0,0.0,0.0,0.0,0.0,0.0,0.0,0.0,0.0,0.0,0.0,0.0,0.0,0.0,0.0,0.0,0.0,0.0,0.0,0.0,0.0,0.0,0.0,0.0,0.0,0.0,0.0,0.0,0.0,0.0,0.0,0.0,0.0,0.0,0.0,0.0,0.0,0.0,0.0,0.0,0.0,0.0,0.0,0.0,0.0,0.0,0.0,0.0,0.0,0.0,0.0,0.0,0.0,0.0,0.0,0.0,0.0,0.0,0.0,0.0,0.0,0.0,0.0,0.0,0.0,0.0,0.0,0.0,0.0,0.0,0.0,0.0,0.0,0.0,0.0,0.0,0.0,0.0,0.0,0.0,0.0,0.0,0.0,0.0,0.0,0.0,0.0,0.0,0.0,0.0,0.0,0.0,0.0,0.0,0.0,0.0,0.0,0.0,0.0,0.0,0.0,0.0,0.0,0.0,0.0,0.0,0.0,0.0,0.0,0.0,0.0,0.0,0.0,0.0,0.0,0.0,0.0,0.0,0.0,0.0,0.0,0.0,0.0,0.0,0.0,0.0,0.0,0.0,0.0,0.0,0.0,0.0,0.0,0.0,0.0,0.0,0.0,0.0,0.0,0.0,0.0,0.0,0.0,0.0,0.0,0.0,0.0,0.0,0.0,0.0,0.0,0.0,0.0,0.0,0.0,0.0,0.0,0.0,0.0,0.0,0.0,0.0,0.0,0.0,0.0,0.0,0.0,0.0,0.0,0.0,0.0,0.0,0.0,0.0,0.0,0.0,0.0,0.0,0.0,0.0,0.0,0.0,0.0,0.0,0.0,0.0,0.0,0.0,0.0,0.0,0.0,0.0,0.0,0.0,0.0,0.0,1.0,0.0,0.0,0.0,0.0,0.0,0.0,0.0,0.0,0.0,0.0,0.0,0.0,0.0,0.0,0.0,0.0,0.0,0.0,0.0,0.0,0.0,0.0,0.0,0.0,0.0,0.0,0.0,0.0,0.0,0.0,0.0,0.0,0.0,0.0,0.0,0.0,0.0,0.0,0.0,0.0,0.0,0.0,0.0,0.0,0.0,0.0,0.0,0.0,0.0,0.0,0.0,0.0,0.0,0.0,0.0,0.0,0.0,0.0,0.0,0.0,0.0,0.0,0.0,0.0,0.0,0.0,0.0,0.0,0.0,0.0,0.0,0.0,0.0,0.0,0.0,0.0,0.0,0.0,0.0,0.0,0.0,0.0,0.0,0.0,0.0,0.0,0.0,0.0,0.0,0.0,0.0,0.0,0.0,0.0,0.0,0.0,0.0,0.0,0.0,0.0,0.0,0.0,0.0,0.0,0.0,0.0,0.0,0.0,0.0,0.0,0.0,0.0,0.0,0.0,0.0,0.0,0.0,0.0,0.0,0.0,0.0,0.0,0.0,0.0,0.0,0.0,0.0,0.0,0.0,0.0,0.0,0.0,0.0,0.0,0.0,0.0,0.0,0.0,0.0,0.0,0.0,0.0,0.0,0.0,0.0,0.0,0.0,0.0,0.0,0.0,0.0,0.0,0.0,0.0,0.0,0.0,0.0,0.0,0.0,0.0,0.0,0.0,0.0,0.0,0.0,0.0,0.0,0.0,0.0,0.0,0.0,0.0,0.0,0.0,0.0,0.0,0.0,0.0,0.0,0.0,0.0,0.0,0.0,0.0,0.0,0.0,0.0,0.0,0.0,0.0,0.0,0.0,0.0,0.0,0.0,0.0,0.0,0.0,0.0,0.0,0.0,0.0,0.0,0.0,0.0,0.0,0.0,0.0,0.0,0.0,0.0,0.0,0.0,0.0,0.0,0.0,0.0,0.0,0.0,0.0,0.0,0.0,0.0,0.0,0.0,0.0,0.0,0.0,0.0,0.0,0.0,0.0,0.0,0.0,0.0,0.0,0.0,0.0,0.0,0.0,0.0,0.0,0.0,0.0,0.0,0.0,0.0,0.0,0.0,0.0,0.0,0.0,0.0,0.0,0.0,0.0,0.0,0.0,0.0,0.0,0.0,0.0,0.0,0.0,0.0,0.0,0.0,0.0,0.0,0.0,0.0,0.0,0.0,0.0,0.0,0.0,0.0,0.0,0.0,0.0,0.0,0.0,0.0,0.0,0.0,0.0,0.0,0.0,0.0,0.0,0.0,0.0,0.0,0.0,0.0,0.0,0.0,0.0,0.0,0.0,0.0,0.0,0.0,0.0,0.0,0.0,0.0,0.0,0.0,0.0,0.0,0.0,0.0,0.0,0.0,0.0,0.0,0.0,0.0,0.0,0.0,0.0,0.0,0.0,0.0,0.0,0.0,0.0,0.0,0.0,0.0,0.0,0.0,0.0,0.0,0.0,0.0,0.0,0.0,0.0,0.0,0.0,0.0,0.0,0.0,0.0,0.0,0.0,0.0,0.0,0.0,0.0,0.0,0.0,0.0,0.0,0.0,0.0,0.0,0.0,0.0,0.0,0.0,0.0,0.0,0.0,0.0,0.0,0.0,0.0,0.0,0.0,0.0,0.0,0.0,0.0,0.0,0.0,0.0,0.0,0.0,0.0,0.0,0.0,0.0,0.0,0.0,0.0,0.0,0.0,0.0,0.0,0.0,0.0,0.0,0.0,0.0,0.0,0.0,0.0,0.0,0.0,0.0,0.0,0.0,0.0,0.0,0.0,0.0,0.0,0.0,0.0,0.0,0.0,0.0,0.0,0.0,0.0,0.0,0.0,0.0,0.0,0.0,0.0,0.0,0.0,0.0,0.0,0.0,0.0,0.0,0.0,0.0,0.0,0.0,0.0,0.0,0.0,0.0,0.0,0.0,0.0,0.0,0.0,0.0,0.0,0.0,0.0,0.0,0.0,0.0,0.0,0.0,0.0,0.0,0.0,0.0,0.0,0.0,0.0,0.0,0.0,0.0,0.0,0.0,0.0,0.0,0.0,0.0,0.0,0.0,0.0,0.0,0.0,0.0,0.0,0.0,0.0,0.0,0.0,0.0,0.0,0.0,0.0,0.0,0.0,0.0,0.0,0.0,0.0,0.0,0.0,0.0,0.0,0.0,0.0,0.0,0.0,0.0,0.0,0.0,0.0,0.0,0.0,0.0,0.0,0.0,0.0,0.0,0.0,0.0,0.0,0.0,0.0,0.0,0.0,0.0,0.0,0.0,0.0,0.0,0.0,0.0,0.0,0.0,0.0,0.0,0.0,0.0,0.0,0.0,0.0,0.0,0.0,0.0,0.0,0.0,0.0,0.0,0.0,0.0,0.0,0.0,0.0,0.0,0.0,0.0,0.0,0.0,0.0,0.0,0.0,0.0,0.0,0.0,0.0,0.0,0.0,0.0,0.0,0.0,0.0,0.0,0.0,0.0,0.0,0.0,0.0,0.0,0.0,0.0,0.0,0.0,0.0,0.0,0.0,0.0,0.0,0.0,0.0,0.0,0.0,0.0,0.0,0.0,0.0,0.0,0.0,0.0,0.0,0.0,0.0,0.0,0.0,0.0,0.0,0.0,0.0,0.0,0.0,0.0,0.0,0.0,0.0,0.0,0.0,0.0,0.0,0.0,0.0,0.0,0.0,0.0,0.0,0.0,0.0,0.0,0.0,0.0,0.0,0.0,0.0,0.0,0.0,0.0,0.0,0.0,0.0,0.0,0.0,0.0,0.0,0.0,0.0,0.0,0.0,0.0,0.0,0.0,0.0,0.0,0.0,0.0,0.0,0.0,0.0,0.0,0.0,0.0,0.0,0.0,0.0,0.0,0.0,0.0,0.0,0.0,0.0,0.0,0.0,0.0,0.0,0.0,0.0,0.0,0.0,0.0,0.0,0.0,0.0,0.0,0.0,0.0,0.0,0.0,0.0,0.0,0.0,0.0,0.0,0.0,0.0,0.0,0.0,0.0,0.0,0.0,0.0,0.0,0.0,0.0,0.0,0.0,0.0,0.0,0.0,0.0,0.0,0.0,0.0,0.0,0.0,0.0,0.0,0.0,0.0,0.0,0.0,0.0,0.0,0.0,0.0,0.0,0.0,0.0,0.0,0.0,0.0,0.0,0.0,0.0,0.0,0.0,0.0,0.0,0.0,0.0,0.0,0.0,0.0,0.0,0.0,0.0,0.0,0.0,0.0,0.0,0.0,0.0,0.0,0.0,0.0,0.0,0.0,0.0,0.0,0.0,0.0,0.0,0.0,0.0,0.0,0.0,0.0,0.0,0.0,0.0,0.0,0.0,0.0,0.0,0.0,0.0,0.0,0.0,0.0,0.0,0.0,0.0,0.0,0.0,0.0,0.0,0.0,0.0,0.0,0.0,0.0,0.0,0.0,0.0,0.0,0.0,0.0,0.0,0.0,0.0,0.0,0.0,0.0,0.0,0.0,0.0,0.0,0.0,0.0,0.0,0.0,0.0,0.0,0.0,0.0,0.0,0.0,0.0,0.0,0.0,0.0,0.0,0.0,0.0,0.0,0.0,0.0,0.0,0.0,0.0,0.0,0.0,0.0,0.0,0.0,0.0,0.0,0.0,0.0,0.0,0.0,0.0,0.0,0.0,0.0,0.0,0.0,0.0,0.0,0.0,0.0,0.0,0.0,0.0,0.0,0.0,0.0,0.0,0.0,0.0,0.0,0.0,0.0,0.0,0.0,0.0,0.0,0.0,0.0,0.0,0.0,0.0,0.0,0.0,0.0,0.0,0.0,0.0,0.0,0.0,0.0,0.0,0.0,0.0,0.0,0.0,0.0,0.0,0.0,0.0,0.0,0.0,0.0,0.0,0.0,0.0,0.0,0.0,0.0,0.0,0.0,0.0,0.0,0.0,0.0,0.0,0.0,0.0,0.0,0.0,0.0,0.0,0.0,0.0,0.0,0.0,0.0,0.0,0.0,0.0,0.0,0.0,0.0,0.0,0.0,0.0,0.0,0.0,0.0,0.0,0.0,0.0,0.0,0.0,0.0,0.0,0.0,0.0,0.0,0.0,0.0,0.0,0.0,0.0,0.0,0.0,0.0,0.0,0.0,0.0,0.0,0.0,0.0,0.0,0.0,0.0,0.0,0.0,0.0,0.0,0.0,0.0,0.0,0.0,0.0,0.0,0.0,0.0,0.0,0.0,0.0,0.0,0.0,0.0,0.0,0.0,0.0,0.0,0.0,0.0,0.0,0.0,0.0,0.0,0.0,0.0,0.0,0.0,0.0,0.0,0.0,0.0,0.0,0.0,0.0,0.0,0.0,0.0,0.0,0.0,0.0,0.0,0.0,0.0,0.0,0.0,0.0,0.0,0.0,0.0,0.0,0.0,0.0,0.0,0.0,0.0,0.0,0.0,0.0,0.0,0.0,0.0,0.0,0.0,0.0,0.0,0.0,0.0,0.0,0.0,0.0,0.0,0.0,0.0,0.0,0.0,0.0,0.0,0.0,0.0,0.0,0.0,0.0,0.0,0.0,0.0,0.0,0.0,0.0,0.0,0.0,0.0,0.0,0.0,0.0,0.0,0.0,0.0,0.0,0.0,0.0,0.0,0.0,0.0,0.0,0.0,0.0,0.0,0.0,0.0,0.0,0.0,0.0,0.0,0.0,0.0,0.0,0.0,0.0,0.0,0.0,0.0,0.0,0.0,0.0,0.0,0.0,0.0,0.0,2015.0,32.985763,150000000.0,124.0,5562.0,6.5]\n",
      "Decision Tree feature vector length: 2102\n"
     ]
    }
   ],
   "source": [
    "first_point_dt = data_dt.first()\n",
    "print(\"Raw data: \" + str(first[2:]))\n",
    "print(\"Decision Tree Label: \" + str(first_point_dt.label))\n",
    "print(\"Decision Tree feature vector: \" + str(first_point_dt.features))\n",
    "print(\"Decision Tree feature vector length: \" + str(len(first_point_dt.features)))"
   ]
  },
  {
   "cell_type": "code",
   "execution_count": 24,
   "metadata": {},
   "outputs": [],
   "source": [
    "# Split the data into training and test sets (30% held out for testing)"
   ]
  },
  {
   "cell_type": "code",
   "execution_count": 25,
   "metadata": {},
   "outputs": [],
   "source": [
    "(trainingData_dt, testData_dt) = data_dt.randomSplit([0.7, 0.3])"
   ]
  },
  {
   "cell_type": "code",
   "execution_count": 26,
   "metadata": {},
   "outputs": [],
   "source": [
    "# Train a DecisionTree model.\n",
    "#  Empty categoricalFeaturesInfo indicates all features are continuous."
   ]
  },
  {
   "cell_type": "code",
   "execution_count": 27,
   "metadata": {},
   "outputs": [],
   "source": [
    "model_dt = DecisionTree.trainRegressor(trainingData_dt, categoricalFeaturesInfo={},\n",
    "                                    impurity='variance', maxDepth=5, maxBins=3000)\n",
    "\n",
    "# Evaluate model on test instances and compute test error\n",
    "predictions_dt = model_dt.predict(testData_dt.map(lambda x: x.features))\n",
    "labelsAndPredictions_dt = testData_dt.map(lambda lp: lp.label).zip(predictions_dt)"
   ]
  },
  {
   "cell_type": "code",
   "execution_count": 28,
   "metadata": {},
   "outputs": [],
   "source": [
    "# dt_model = DecisionTree.trainRegressor(data_dt,{})\n",
    "# preds = dt_model.predict(data_dt.map(lambda p: p.features))\n",
    "# actual = data.map(lambda p: p.label)\n",
    "# true_vs_predicted_dt = actual.zip(preds)"
   ]
  },
  {
   "cell_type": "code",
   "execution_count": 29,
   "metadata": {},
   "outputs": [
    {
     "name": "stdout",
     "output_type": "stream",
     "text": [
      "Learned regression tree model:\n",
      "DecisionTreeModel regressor of depth 5 with 57 nodes\n",
      "  If (feature 2100 <= 1257.5)\n",
      "   If (feature 2100 <= 273.5)\n",
      "    If (feature 2100 <= 113.5)\n",
      "     If (feature 2098 <= 1.04E7)\n",
      "      If (feature 2096 <= 1996.5)\n",
      "       Predict: 6499651.393716577\n",
      "      Else (feature 2096 > 1996.5)\n",
      "       Predict: 1098559.8170542635\n",
      "     Else (feature 2098 > 1.04E7)\n",
      "      If (feature 2100 <= 58.5)\n",
      "       Predict: 1.0910189978354977E7\n",
      "      Else (feature 2100 > 58.5)\n",
      "       Predict: 2.966275175E7\n",
      "    Else (feature 2100 > 113.5)\n",
      "     If (feature 1863 <= 0.5)\n",
      "      If (feature 2098 <= 2.35E7)\n",
      "       Predict: 2.6330545085808583E7\n",
      "      Else (feature 2098 > 2.35E7)\n",
      "       Predict: 7.318845953172205E7\n",
      "     Else (feature 1863 > 0.5)\n",
      "      Predict: 1.106279658E9\n",
      "   Else (feature 2100 > 273.5)\n",
      "    If (feature 2098 <= 7.25E7)\n",
      "     If (feature 2098 <= 2.025E7)\n",
      "      If (feature 2096 <= 2007.5)\n",
      "       Predict: 8.018945433507854E7\n",
      "      Else (feature 2096 > 2007.5)\n",
      "       Predict: 4.029203751630435E7\n",
      "     Else (feature 2098 > 2.025E7)\n",
      "      If (feature 2096 <= 2004.5)\n",
      "       Predict: 1.6155636924444443E8\n",
      "      Else (feature 2096 > 2004.5)\n",
      "       Predict: 9.979556580232558E7\n",
      "    Else (feature 2098 > 7.25E7)\n",
      "     If (feature 2100 <= 545.5)\n",
      "      If (feature 247 <= 0.5)\n",
      "       Predict: 1.647213524680851E8\n",
      "      Else (feature 247 > 0.5)\n",
      "       Predict: 4.43140005E8\n",
      "     Else (feature 2100 > 545.5)\n",
      "      If (feature 2098 <= 1.325E8)\n",
      "       Predict: 2.4013650618823528E8\n",
      "      Else (feature 2098 > 1.325E8)\n",
      "       Predict: 3.4582251490909094E8\n",
      "  Else (feature 2100 > 1257.5)\n",
      "   If (feature 2100 <= 2620.5)\n",
      "    If (feature 2098 <= 7.35E7)\n",
      "     If (feature 242 <= 0.5)\n",
      "      If (feature 1909 <= 0.5)\n",
      "       Predict: 1.948646754021739E8\n",
      "      Else (feature 1909 > 0.5)\n",
      "       Predict: 7.92910554E8\n",
      "     Else (feature 242 > 0.5)\n",
      "      If (feature 2096 <= 2009.5)\n",
      "       Predict: 7.09827462E8\n",
      "      Else (feature 2096 > 2009.5)\n",
      "       Predict: 6.98491347E8\n",
      "    Else (feature 2098 > 7.35E7)\n",
      "     If (feature 145 <= 0.5)\n",
      "      If (feature 2096 <= 2009.5)\n",
      "       Predict: 4.642556904222222E8\n",
      "      Else (feature 2096 > 2009.5)\n",
      "       Predict: 3.44602377097561E8\n",
      "     Else (feature 145 > 0.5)\n",
      "      Predict: 1.123746996E9\n",
      "   Else (feature 2100 > 2620.5)\n",
      "    If (feature 2098 <= 1.825E8)\n",
      "     If (feature 2098 <= 3.41E7)\n",
      "      If (feature 1244 <= 0.5)\n",
      "       Predict: 2.1532137557142857E8\n",
      "      Else (feature 1244 > 0.5)\n",
      "       Predict: 6.28832669E8\n",
      "     Else (feature 2098 > 3.41E7)\n",
      "      If (feature 1049 <= 0.5)\n",
      "       Predict: 5.868952521551725E8\n",
      "      Else (feature 1049 > 0.5)\n",
      "       Predict: 1.327817822E9\n",
      "    Else (feature 2098 > 1.825E8)\n",
      "     If (feature 1020 <= 0.5)\n",
      "      If (feature 294 <= 0.5)\n",
      "       Predict: 9.051405871428572E8\n",
      "      Else (feature 294 > 0.5)\n",
      "       Predict: 1.845034188E9\n",
      "     Else (feature 1020 > 0.5)\n",
      "      Predict: 2.068178225E9\n",
      "\n"
     ]
    }
   ],
   "source": [
    "print('Learned regression tree model:')\n",
    "print(model_dt.toDebugString())\n"
   ]
  },
  {
   "cell_type": "code",
   "execution_count": 30,
   "metadata": {},
   "outputs": [],
   "source": [
    "# Root Suarred Error\n",
    "def squared_log_error(pred, actual):\n",
    "    return (np.log(pred + 1) - np.log(actual + 1))**2\n",
    "\n",
    "# Aboslute Error\n",
    "def abs_error(actual, pred):\n",
    "     return np.abs(pred - actual)\n",
    "# Mean Squared Error     \n",
    "def squared_error(actual, pred):\n",
    "    return (pred - actual)**2"
   ]
  },
  {
   "cell_type": "code",
   "execution_count": 31,
   "metadata": {},
   "outputs": [],
   "source": [
    "# 2.1.2) Decision Tree Log"
   ]
  },
  {
   "cell_type": "code",
   "execution_count": 32,
   "metadata": {},
   "outputs": [],
   "source": [
    "# testMSE_dt = labelsAndPredictions_dt.map(lambda lp: (lp[0] - lp[1]) * (lp[0] - lp[1])).sum() / float(testData.count())\n",
    "\n",
    "rmsle_dt = np.sqrt(labelsAndPredictions_dt.map(lambda lp: squared_log_error(lp[0], lp[1])).mean())\n",
    "mse = labelsAndPredictions_dt.map(lambda lp: squared_error(lp[0], lp[1])).mean()\n",
    "mae = labelsAndPredictions_dt.map(lambda lp: abs_error(lp[0], lp[1])).mean()\n"
   ]
  },
  {
   "cell_type": "code",
   "execution_count": 33,
   "metadata": {},
   "outputs": [
    {
     "name": "stdout",
     "output_type": "stream",
     "text": [
      "Decision Tree Model - Root Mean Squared Log Error: 11.1114\n",
      "Decision Tree Model - Mean Squared Error: 4190205191230359.0000\n",
      "Decision Tree Model - Mean Absolute Error: 23535905.5935\n"
     ]
    }
   ],
   "source": [
    "print(\"Decision Tree Model - Root Mean Squared Log Error: %2.4f\" % rmsle_dt)\n",
    "print(\"Decision Tree Model - Mean Squared Error: %2.4f\" % mse)\n",
    "print(\"Decision Tree Model - Mean Absolute Error: %2.4f\" % mae)"
   ]
  },
  {
   "cell_type": "code",
   "execution_count": 34,
   "metadata": {},
   "outputs": [
    {
     "data": {
      "image/png": "[encoded data removed]",
      "text/plain": [
       "<matplotlib.figure.Figure at 0x112f1a198>"
      ]
     },
     "metadata": {},
     "output_type": "display_data"
    }
   ],
   "source": [
    "targets = records.map(lambda r: float(r[-1])).collect()\n",
    "hist(targets, bins=20, color='lightblue', normed=True)\n",
    "fig = matplotlib.pyplot.gcf()\n",
    "fig.set_size_inches(12, 8)"
   ]
  },
  {
   "cell_type": "code",
   "execution_count": 35,
   "metadata": {},
   "outputs": [],
   "source": [
    "# 2.1.3) Decision Tree Max Bins\n",
    "# 2.14) Decision Tree Max Depth"
   ]
  },
  {
   "cell_type": "code",
   "execution_count": 36,
   "metadata": {},
   "outputs": [],
   "source": [
    "# (RMSLE vs MaxDepth) and (RMSLE vs MaxBins) evaluation metric"
   ]
  },
  {
   "cell_type": "code",
   "execution_count": 37,
   "metadata": {},
   "outputs": [],
   "source": [
    "def evaluate_dt(trainData, testData, maxDepthValue, maxBinsValue):\n",
    "    modelDT = DecisionTree.trainRegressor(trainData, categoricalFeaturesInfo={},\n",
    "                                    impurity='variance', maxDepth=maxDepthValue, maxBins=maxBinsValue)\n",
    "\n",
    "    # Evaluate model on test instances and compute test error\n",
    "    predits = modelDT.predict(testData.map(lambda x: x.features))\n",
    "    labelsAndPredicts = testData.map(lambda lp: lp.label).zip(predits)\n",
    "    rmsleDT = np.sqrt(labelsAndPredicts.map(lambda lp: squared_log_error(lp[0], lp[1])).mean())\n",
    "    return rmsleDT"
   ]
  },
  {
   "cell_type": "code",
   "execution_count": 38,
   "metadata": {},
   "outputs": [],
   "source": [
    "# 2.1.3) Decision Tree Max Bins"
   ]
  },
  {
   "cell_type": "code",
   "execution_count": 39,
   "metadata": {},
   "outputs": [
    {
     "name": "stdout",
     "output_type": "stream",
     "text": [
      "[32, 64, 80, 100, 200, 400]\n",
      "[11.089970408176873, 10.810698640217758, 11.102642426961786, 11.374785524899583, 11.390120610267836, 11.111476599226961]\n"
     ]
    }
   ],
   "source": [
    "constantMaxDepthAndBinsParams = [32, 64, 80, 100, 200, 400]\n",
    "\n",
    "metrics = [evaluate_dt(trainingData_dt, testData_dt, 5, param) # constant Max Depth\n",
    "           for param in constantMaxDepthAndBinsParams]\n",
    "print(constantMaxDepthAndBinsParams)\n",
    "print(metrics)"
   ]
  },
  {
   "cell_type": "code",
   "execution_count": 40,
   "metadata": {},
   "outputs": [
    {
     "data": {
      "text/plain": [
       "Text(0,0.5,'RMSLE')"
      ]
     },
     "execution_count": 40,
     "metadata": {},
     "output_type": "execute_result"
    },
    {
     "data": {
      "image/png": "[encoded data removed]",
      "text/plain": [
       "<matplotlib.figure.Figure at 0x11486f390>"
      ]
     },
     "metadata": {},
     "output_type": "display_data"
    }
   ],
   "source": [
    "# Plotting : Decision Tree Max Bins\n",
    "plot(constantMaxDepthAndBinsParams, metrics)\n",
    "plt.xlabel('Max Bins')\n",
    "plt.ylabel('RMSLE')"
   ]
  },
  {
   "cell_type": "code",
   "execution_count": 41,
   "metadata": {},
   "outputs": [],
   "source": [
    "# 2.1.4) Decision Tree Max Depth"
   ]
  },
  {
   "cell_type": "code",
   "execution_count": 42,
   "metadata": {},
   "outputs": [
    {
     "name": "stdout",
     "output_type": "stream",
     "text": [
      "[3, 4, 5, 6, 7, 8]\n",
      "[12.175863843517828, 11.685330514904656, 11.389827385945134, 11.082158160017226, 10.974125969447954, 10.806983667425051]\n"
     ]
    }
   ],
   "source": [
    "maxDepthAndConstantBinsParams = [3, 4, 5, 6, 7, 8]\n",
    "\n",
    "metricsMaxDepth = [evaluate_dt(trainingData_dt, testData_dt, param, 150) \n",
    "           for param in maxDepthAndConstantBinsParams]\n",
    "print(maxDepthAndConstantBinsParams)\n",
    "print(metricsMaxDepth)"
   ]
  },
  {
   "cell_type": "code",
   "execution_count": 43,
   "metadata": {},
   "outputs": [
    {
     "data": {
      "text/plain": [
       "Text(0,0.5,'RMSLE')"
      ]
     },
     "execution_count": 43,
     "metadata": {},
     "output_type": "execute_result"
    },
    {
     "data": {
      "image/png": "[encoded data removed]",
      "text/plain": [
       "<matplotlib.figure.Figure at 0x11486f780>"
      ]
     },
     "metadata": {},
     "output_type": "display_data"
    }
   ],
   "source": [
    "# Plotting : Decision Tree Max Depth\n",
    "plot(maxDepthAndConstantBinsParams, metricsMaxDepth)\n",
    "plt.xlabel('Max Depth')\n",
    "plt.ylabel('RMSLE')"
   ]
  },
  {
   "cell_type": "code",
   "execution_count": null,
   "metadata": {},
   "outputs": [],
   "source": []
  },
  {
   "cell_type": "code",
   "execution_count": null,
   "metadata": {},
   "outputs": [],
   "source": []
  },
  {
   "cell_type": "code",
   "execution_count": 44,
   "metadata": {},
   "outputs": [],
   "source": [
    "# 2.2. Gradient boost tree "
   ]
  },
  {
   "cell_type": "code",
   "execution_count": 45,
   "metadata": {
    "scrolled": true
   },
   "outputs": [
    {
     "name": "stdout",
     "output_type": "stream",
     "text": [
      "Learned regression Gradient boosted tree lmodel:\n",
      "TreeEnsembleModel regressor with 3 trees\n",
      "\n",
      "  Tree 0:\n",
      "    If (feature 2100 <= 1030.5)\n",
      "     If (feature 2100 <= 197.5)\n",
      "      If (feature 2098 <= 1.095E7)\n",
      "       If (feature 2100 <= 41.5)\n",
      "        If (feature 2096 <= 1999.5)\n",
      "         Predict: 3391036.1577358493\n",
      "        Else (feature 2096 > 1999.5)\n",
      "         Predict: 403086.07861771056\n",
      "       Else (feature 2100 > 41.5)\n",
      "        If (feature 2096 <= 1998.5)\n",
      "         Predict: 1.9754858321814254E7\n",
      "        Else (feature 2096 > 1998.5)\n",
      "         Predict: 4186590.844127333\n",
      "      Else (feature 2098 > 1.095E7)\n",
      "       If (feature 2100 <= 95.5)\n",
      "        If (feature 2100 <= 56.5)\n",
      "         Predict: 1.0744109002217295E7\n",
      "        Else (feature 2100 > 56.5)\n",
      "         Predict: 2.6484139344827585E7\n",
      "       Else (feature 2100 > 95.5)\n",
      "        If (feature 1965 <= 0.5)\n",
      "         Predict: 5.040688353956834E7\n",
      "        Else (feature 1965 > 0.5)\n",
      "         Predict: 3.20145693E8\n",
      "     Else (feature 2100 > 197.5)\n",
      "      If (feature 2098 <= 4.03E7)\n",
      "       If (feature 1863 <= 0.5)\n",
      "        If (feature 2098 <= 1.795E7)\n",
      "         Predict: 4.477075487746171E7\n",
      "        Else (feature 2098 > 1.795E7)\n",
      "         Predict: 9.50474068429752E7\n",
      "       Else (feature 1863 > 0.5)\n",
      "        Predict: 1.106279658E9\n",
      "      Else (feature 2098 > 4.03E7)\n",
      "       If (feature 2100 <= 461.0)\n",
      "        If (feature 247 <= 0.5)\n",
      "         Predict: 1.1514133358011049E8\n",
      "        Else (feature 247 > 0.5)\n",
      "         Predict: 4.43140005E8\n",
      "       Else (feature 2100 > 461.0)\n",
      "        If (feature 2098 <= 7.55E7)\n",
      "         Predict: 1.717013301491228E8\n",
      "        Else (feature 2098 > 7.55E7)\n",
      "         Predict: 2.4455765024390244E8\n",
      "    Else (feature 2100 > 1030.5)\n",
      "     If (feature 2098 <= 9.1E7)\n",
      "      If (feature 2100 <= 2346.5)\n",
      "       If (feature 242 <= 0.5)\n",
      "        If (feature 2098 <= 6982788.0)\n",
      "         Predict: 4.1657656666666664E7\n",
      "        Else (feature 2098 > 6982788.0)\n",
      "         Predict: 2.075315472189781E8\n",
      "       Else (feature 242 > 0.5)\n",
      "        If (feature 2096 <= 2009.5)\n",
      "         Predict: 7.09827462E8\n",
      "        Else (feature 2096 > 2009.5)\n",
      "         Predict: 6.98491347E8\n",
      "      Else (feature 2100 > 2346.5)\n",
      "       If (feature 3 <= 0.5)\n",
      "        If (feature 2098 <= 3.0125E7)\n",
      "         Predict: 2.36900737E8\n",
      "        Else (feature 2098 > 3.0125E7)\n",
      "         Predict: 4.219022829375E8\n",
      "       Else (feature 3 > 0.5)\n",
      "        Predict: 1.156730962E9\n",
      "     Else (feature 2098 > 9.1E7)\n",
      "      If (feature 2100 <= 2346.5)\n",
      "       If (feature 1090 <= 0.5)\n",
      "        If (feature 2096 <= 2009.5)\n",
      "         Predict: 4.4006198945454544E8\n",
      "        Else (feature 2096 > 2009.5)\n",
      "         Predict: 3.1681641805263156E8\n",
      "       Else (feature 1090 > 0.5)\n",
      "        If (feature 2096 <= 2011.5)\n",
      "         Predict: 6.297439256666666E8\n",
      "        Else (feature 2096 > 2011.5)\n",
      "         Predict: 7.43559607E8\n",
      "      Else (feature 2100 > 2346.5)\n",
      "       If (feature 1020 <= 0.5)\n",
      "        If (feature 2099 <= 129.5)\n",
      "         Predict: 5.821560224482758E8\n",
      "        Else (feature 2099 > 129.5)\n",
      "         Predict: 8.627114690555556E8\n",
      "       Else (feature 1020 > 0.5)\n",
      "        Predict: 2.068178225E9\n",
      "  Tree 1:\n",
      "    If (feature 1909 <= 0.5)\n",
      "     If (feature 2096 <= 2008.5)\n",
      "      If (feature 2097 <= 2.108808)\n",
      "       If (feature 1284 <= 0.5)\n",
      "        If (feature 443 <= 0.5)\n",
      "         Predict: 4915009.484861551\n",
      "        Else (feature 443 > 0.5)\n",
      "         Predict: 8.199051863140488E8\n",
      "       Else (feature 1284 > 0.5)\n",
      "        If (feature 2096 <= 2003.5)\n",
      "         Predict: -4.502264189090909E8\n",
      "        Else (feature 2096 > 2003.5)\n",
      "         Predict: -6.955920168965517E8\n",
      "      Else (feature 2097 > 2.108808)\n",
      "       If (feature 294 <= 0.5)\n",
      "        If (feature 1053 <= 0.5)\n",
      "         Predict: 9.662413737848467E7\n",
      "        Else (feature 1053 > 0.5)\n",
      "         Predict: -9.769855921111107E8\n",
      "       Else (feature 294 > 0.5)\n",
      "        Predict: 1.9646454378888893E9\n",
      "     Else (feature 2096 > 2008.5)\n",
      "      If (feature 2100 <= 197.5)\n",
      "       If (feature 2098 <= 1.095E7)\n",
      "        If (feature 244 <= 0.5)\n",
      "         Predict: -1278854.3604259163\n",
      "        Else (feature 244 > 0.5)\n",
      "         Predict: 1.4336888231174517E8\n",
      "       Else (feature 2098 > 1.095E7)\n",
      "        If (feature 344 <= 0.5)\n",
      "         Predict: -2.635590020807455E7\n",
      "        Else (feature 344 > 0.5)\n",
      "         Predict: 3.0235451492086315E8\n",
      "      Else (feature 2100 > 197.5)\n",
      "       If (feature 1019 <= 0.5)\n",
      "        If (feature 1341 <= 0.5)\n",
      "         Predict: -5.182755689618068E7\n",
      "        Else (feature 1341 > 0.5)\n",
      "         Predict: 9.62031777103447E8\n",
      "       Else (feature 1019 > 0.5)\n",
      "        If (feature 2099 <= 120.5)\n",
      "         Predict: -4.074393368965516E8\n",
      "        Else (feature 2099 > 120.5)\n",
      "         Predict: 1.8627455751034484E9\n",
      "    Else (feature 1909 > 0.5)\n",
      "     Predict: 1.1707580135620437E9\n",
      "  Tree 2:\n",
      "    If (feature 1909 <= 0.5)\n",
      "     If (feature 873 <= 0.5)\n",
      "      If (feature 1512 <= 0.5)\n",
      "       If (feature 2096 <= 2005.5)\n",
      "        If (feature 2100 <= 254.5)\n",
      "         Predict: 1180220.2621241587\n",
      "        Else (feature 2100 > 254.5)\n",
      "         Predict: 5.554055969623661E7\n",
      "       Else (feature 2096 > 2005.5)\n",
      "        If (feature 1341 <= 0.5)\n",
      "         Predict: -9519118.916220905\n",
      "        Else (feature 1341 > 0.5)\n",
      "         Predict: 7.696254216827621E8\n",
      "      Else (feature 1512 > 0.5)\n",
      "       Predict: 8.01076387273973E8\n",
      "     Else (feature 873 > 0.5)\n",
      "      Predict: -8.294669115868082E8\n",
      "    Else (feature 1909 > 0.5)\n",
      "     Predict: 9.36606410849635E8\n",
      "\n",
      "GradientBoostedTrees Model - Root Mean Squared Log Error: nan\n",
      "GradientBoostedTrees Model - Mean Squared Error: 4414113599395321.5000\n",
      "GradientBoostedTrees Model - Mean Absolute Error: 23042254.9170\n"
     ]
    }
   ],
   "source": [
    "# Train a GradientBoostedTrees model.\n",
    "#  Notes: (a) Empty categoricalFeaturesInfo indicates all features are continuous.\n",
    "#         (b) Use more iterations in practice.\n",
    "\n",
    "model_GBT = GradientBoostedTrees.trainRegressor(trainingData_dt,\n",
    "                                            categoricalFeaturesInfo={}, numIterations=3, maxDepth=5, maxBins=64)\n",
    "\n",
    "predictions_GBT = model_GBT.predict(testData_dt.map(lambda x: x.features))\n",
    "labelsAndPredictions_GBT = testData_dt.map(lambda lp: lp.label).zip(predictions_GBT)\n",
    "\n",
    "print('Learned regression Gradient boosted tree lmodel:')\n",
    "print(model_GBT.toDebugString())\n",
    "\n",
    "rmsle_gbt = np.sqrt(labelsAndPredictions_GBT.map(lambda lp: squared_log_error(lp[0], lp[1])).mean())\n",
    "mse_gbt = labelsAndPredictions_GBT.map(lambda lp: squared_error(lp[0], lp[1])).mean()\n",
    "mae_gbt = labelsAndPredictions_GBT.map(lambda lp: abs_error(lp[0], lp[1])).mean()\n",
    "\n",
    "print(\"GradientBoostedTrees Model - Root Mean Squared Log Error: %2.4f\" % rmsle_gbt)\n",
    "print(\"GradientBoostedTrees Model - Mean Squared Error: %2.4f\" % mse_gbt)\n",
    "print(\"GradientBoostedTrees Model - Mean Absolute Error: %2.4f\" % mae_gbt)"
   ]
  },
  {
   "cell_type": "code",
   "execution_count": 46,
   "metadata": {},
   "outputs": [],
   "source": [
    "# 2.2.1) Gradient boost tree iterations"
   ]
  },
  {
   "cell_type": "code",
   "execution_count": 47,
   "metadata": {},
   "outputs": [],
   "source": [
    "def evaluate_gbt(trainData, testData, numIterationsValue, maxDepthValue, maxBinsValue):\n",
    "    model_GBT = GradientBoostedTrees.trainRegressor(trainData,\n",
    "                                            categoricalFeaturesInfo={}, numIterations=numIterationsValue,\n",
    "                                                    maxDepth=maxDepthValue, maxBins=maxBinsValue)\n",
    "\n",
    "    predictions_GBT = model_GBT.predict(testData.map(lambda x: x.features))\n",
    "    labelsAndPredictions_GBT = testData.map(lambda lp: lp.label).zip(predictions_GBT)\n",
    "    rmsleGBT = np.sqrt(labelsAndPredictions_GBT.map(lambda lp: squared_log_error(lp[0], lp[1])).mean())\n",
    "    return rmsleGBT"
   ]
  },
  {
   "cell_type": "code",
   "execution_count": 48,
   "metadata": {},
   "outputs": [
    {
     "name": "stdout",
     "output_type": "stream",
     "text": [
      "[2, 3, 4]\n",
      "[nan, nan, nan]\n"
     ]
    },
    {
     "data": {
      "text/plain": [
       "Text(0,0.5,'RMSLE')"
      ]
     },
     "execution_count": 48,
     "metadata": {},
     "output_type": "execute_result"
    },
    {
     "data": {
      "image/png": "[encoded data removed]",
      "text/plain": [
       "<matplotlib.figure.Figure at 0x114a20668>"
      ]
     },
     "metadata": {},
     "output_type": "display_data"
    }
   ],
   "source": [
    "numInterationsParams = [2, 3, 4]\n",
    "\n",
    "metrics_gbt_iterations = [evaluate_gbt(trainingData_dt, testData_dt, param, 5, 32)\n",
    "           for param in numInterationsParams]\n",
    "print(numInterationsParams)\n",
    "print(metrics_gbt_iterations)\n",
    "\n",
    "# Plotting\n",
    "plot(numInterationsParams, metrics_gbt_iterations)\n",
    "plt.xlabel('Iterations log scale')\n",
    "plt.ylabel('RMSLE')"
   ]
  },
  {
   "cell_type": "code",
   "execution_count": 49,
   "metadata": {},
   "outputs": [],
   "source": [
    "# 2.2.2) Gradient boost tree Max Bins"
   ]
  },
  {
   "cell_type": "code",
   "execution_count": 50,
   "metadata": {},
   "outputs": [
    {
     "name": "stdout",
     "output_type": "stream",
     "text": [
      "[32, 64, 100]\n",
      "[nan, nan, nan]\n"
     ]
    },
    {
     "data": {
      "text/plain": [
       "Text(0,0.5,'RMSLE')"
      ]
     },
     "execution_count": 50,
     "metadata": {},
     "output_type": "execute_result"
    },
    {
     "data": {
      "image/png": "[encoded data removed]",
      "text/plain": [
       "<matplotlib.figure.Figure at 0x114b1c5f8>"
      ]
     },
     "metadata": {},
     "output_type": "display_data"
    }
   ],
   "source": [
    "maxBinsParams = [32, 64, 100]\n",
    "\n",
    "metrics_gbt_maxBins = [evaluate_gbt(trainingData_dt, testData_dt, 3, 5, param)\n",
    "           for param in maxBinsParams]\n",
    "print(maxBinsParams)\n",
    "print(metrics_gbt_maxBins)\n",
    "\n",
    "# Plotting : Decision Tree Max Depth\n",
    "plot(maxBinsParams, metrics_gbt_maxBins)\n",
    "plt.xlabel('Max Bins')\n",
    "plt.ylabel('RMSLE')"
   ]
  },
  {
   "cell_type": "code",
   "execution_count": 51,
   "metadata": {},
   "outputs": [],
   "source": [
    "# 2.2.3) Gradient boost tree Max Depth"
   ]
  },
  {
   "cell_type": "code",
   "execution_count": 53,
   "metadata": {},
   "outputs": [
    {
     "name": "stdout",
     "output_type": "stream",
     "text": [
      "[4, 5, 6]\n",
      "[nan, nan, nan]\n"
     ]
    },
    {
     "data": {
      "text/plain": [
       "Text(0,0.5,'RMSLE')"
      ]
     },
     "execution_count": 53,
     "metadata": {},
     "output_type": "execute_result"
    },
    {
     "data": {
      "image/png": "[encoded data removed]",
      "text/plain": [
       "<matplotlib.figure.Figure at 0x114cb0278>"
      ]
     },
     "metadata": {},
     "output_type": "display_data"
    }
   ],
   "source": [
    "maxDepthParams = [4, 5, 6]\n",
    "\n",
    "metrics_gbt_maxDepth = [evaluate_gbt(trainingData_dt, testData_dt, 3, param, 32)\n",
    "           for param in maxDepthParams]\n",
    "print(maxDepthParams)\n",
    "print(metrics_gbt_maxDepth)\n",
    "\n",
    "# Plotting\n",
    "plot(maxDepthParams, metrics_gbt_maxDepth)\n",
    "plt.xlabel('Max Depths')\n",
    "plt.ylabel('RMSLE')"
   ]
  },
  {
   "cell_type": "code",
   "execution_count": null,
   "metadata": {},
   "outputs": [],
   "source": [
    "# 2.3. Linear regression model"
   ]
  },
  {
   "cell_type": "code",
   "execution_count": null,
   "metadata": {},
   "outputs": [],
   "source": [
    "# we can proceed with extracting feature vectors and labels from our data records"
   ]
  },
  {
   "cell_type": "code",
   "execution_count": 12,
   "metadata": {},
   "outputs": [],
   "source": [
    "data_linear = records.map(lambda r: LabeledPoint(extract_label(r), extract_features(r)))"
   ]
  },
  {
   "cell_type": "code",
   "execution_count": 52,
   "metadata": {},
   "outputs": [],
   "source": [
    "# Let's inspect the first record in the extracted feature RDD:"
   ]
  },
  {
   "cell_type": "code",
   "execution_count": null,
   "metadata": {},
   "outputs": [],
   "source": [
    "first_point = data_linear.first()\n",
    "print(\"Raw data: \" + str(first[2:]))\n",
    "print(\"Label: \" + str(first_point.label))\n",
    "print(\"Linear Model feature vector:\\n\" + str(first_point.features))\n",
    "print(\"Linear Model feature vector length: \" + str(len(first_point.\n",
    "features)))"
   ]
  },
  {
   "cell_type": "code",
   "execution_count": 13,
   "metadata": {},
   "outputs": [],
   "source": [
    "(trainingData_linear, testData_linear) = data_linear.randomSplit([0.7, 0.3])"
   ]
  },
  {
   "cell_type": "code",
   "execution_count": 16,
   "metadata": {},
   "outputs": [
    {
     "name": "stdout",
     "output_type": "stream",
     "text": [
      "Linear Model predictions: [(595380321.0, 8.7382057804175837e+72), (36869414.0, 1.2136396973989071e+72), (325771424.0, 3.8836470152728108e+72), (542351353.0, 7.6863847121795557e+72), (209035668.0, 1.5372769419272377e+73)]\n"
     ]
    }
   ],
   "source": [
    "model_LR = LinearRegressionWithSGD.train(trainingData_linear, iterations=5, step=0.01)\n",
    "# Building a Regression Model with Spark\n",
    "true_vs_predicted_LR = testData_linear.map(lambda p: (p.label, model_LR.predict(p.features)))\n",
    "print(\"Linear Model predictions: \" + str(true_vs_predicted_LR.take(5)))\n",
    "\n",
    "\n",
    "predictions_linear = model_LR.predict(testData_linear.map(lambda x: x.features))\n",
    "labelsAndPredictions_linear = testData_linear.map(lambda lp: lp.label).zip(predictions_linear)"
   ]
  },
  {
   "cell_type": "code",
   "execution_count": null,
   "metadata": {},
   "outputs": [],
   "source": [
    "# 2.3.1) Linear regression Cross Validation"
   ]
  },
  {
   "cell_type": "code",
   "execution_count": 68,
   "metadata": {},
   "outputs": [
    {
     "name": "stdout",
     "output_type": "stream",
     "text": [
      "Training data size 7562\n",
      "Test data size 3304\n",
      "Total data size 10866\n"
     ]
    }
   ],
   "source": [
    "print('Training data size', trainingData_linear.count())\n",
    "print('Test data size', testData_linear.count())\n",
    "\n",
    "print('Total data size', trainingData_linear.count() + testData_linear.count())\n"
   ]
  },
  {
   "cell_type": "code",
   "execution_count": 70,
   "metadata": {},
   "outputs": [],
   "source": [
    "def evaluate(train, test, iterations, step, regParam, regType, intercept):\n",
    "    model = LinearRegressionWithSGD.train(train, iterations, step, \n",
    "                                          regParam=regParam, regType=regType, intercept=intercept)\n",
    "    tp = test.map(lambda p: (p.label, model.predict(p.features)))\n",
    "    rmsle = np.sqrt(tp.map(lambda lp: squared_log_error(lp[0], lp[1])).mean())\n",
    "    return rmsle"
   ]
  },
  {
   "cell_type": "code",
   "execution_count": 74,
   "metadata": {},
   "outputs": [
    {
     "name": "stdout",
     "output_type": "stream",
     "text": [
      "[True, False]\n",
      "[89.884748649928014, 89.884748534199261]\n"
     ]
    },
    {
     "data": {
      "text/plain": [
       "Text(0,0.5,'RMSLE')"
      ]
     },
     "execution_count": 74,
     "metadata": {},
     "output_type": "execute_result"
    },
    {
     "data": {
      "image/png": "[encoded data removed]",
      "text/plain": [
       "<matplotlib.figure.Figure at 0x10f378dd8>"
      ]
     },
     "metadata": {},
     "output_type": "display_data"
    }
   ],
   "source": [
    "# 2.3.2.1) Intercept\n",
    "\n",
    "params_intercept = [True, False]\n",
    "metrics_intercept = [evaluate(trainingData_linear, testData_linear, 3, 0.01, 0.0, 'l2', param) for param in params_intercept]\n",
    "\n",
    "print(params_intercept)\n",
    "print(metrics_intercept)\n",
    "\n",
    "# Plotting\n",
    "plot(params_intercept, metrics_intercept)\n",
    "plt.xlabel('Intercept')\n",
    "plt.ylabel('RMSLE')"
   ]
  },
  {
   "cell_type": "code",
   "execution_count": 88,
   "metadata": {},
   "outputs": [
    {
     "name": "stdout",
     "output_type": "stream",
     "text": [
      "[1, 3, 6]\n",
      "[31.282585328149491, 89.884748534199261, nan]\n"
     ]
    },
    {
     "data": {
      "text/plain": [
       "Text(0,0.5,'RMSLE')"
      ]
     },
     "execution_count": 88,
     "metadata": {},
     "output_type": "execute_result"
    },
    {
     "data": {
      "image/png": "[encoded data removed]",
      "text/plain": [
       "<matplotlib.figure.Figure at 0x10fcdb198>"
      ]
     },
     "metadata": {},
     "output_type": "display_data"
    }
   ],
   "source": [
    "# 2.3.2.2) Iterations\n",
    "\n",
    "params_iterations = [1, 3, 6]\n",
    "metrics_iterations = [evaluate(trainingData_linear, testData_linear, param, 0.01, 0.0, 'l2', False) for param in params_iterations]\n",
    "\n",
    "print(params_iterations)\n",
    "print(metrics_iterations)\n",
    "\n",
    "# Plotting\n",
    "plot(params_iterations, metrics_iterations)\n",
    "plt.xlabel('Iterations')\n",
    "plt.ylabel('RMSLE')"
   ]
  },
  {
   "cell_type": "code",
   "execution_count": 78,
   "metadata": {},
   "outputs": [
    {
     "name": "stdout",
     "output_type": "stream",
     "text": [
      "[0.01, 0.025, 0.05, 0.1, 1.0]\n",
      "[89.884748534199261, 92.622596281050932, 94.69412252509683, 96.765988312030728, 103.65075559271362]\n"
     ]
    },
    {
     "data": {
      "text/plain": [
       "Text(0,0.5,'RMSLE')"
      ]
     },
     "execution_count": 78,
     "metadata": {},
     "output_type": "execute_result"
    },
    {
     "data": {
      "image/png": "[encoded data removed]",
      "text/plain": [
       "<matplotlib.figure.Figure at 0x10f83ff60>"
      ]
     },
     "metadata": {},
     "output_type": "display_data"
    }
   ],
   "source": [
    "# 2.3.2.3) Step size\n",
    "\n",
    "params_step = [0.01, 0.025, 0.05, 0.1, 1.0]\n",
    "metrics_step = [evaluate(trainingData_linear, testData_linear, 3, param, 0.0, 'l2', False) for param in params_step]\n",
    "\n",
    "print(params_step)\n",
    "print(metrics_step)\n",
    "\n",
    "# Plotting\n",
    "plot(params_step, metrics_step)\n",
    "plt.xlabel('Step')\n",
    "plt.ylabel('RMSLE')"
   ]
  },
  {
   "cell_type": "code",
   "execution_count": 79,
   "metadata": {},
   "outputs": [
    {
     "name": "stdout",
     "output_type": "stream",
     "text": [
      "[0.0, 0.01, 0.1, 1.0, 10.0, 100.0]\n",
      "[89.884748534199261, 89.884748534199261, 89.884748534199261, 89.884748534199261, 89.884748534199247, 89.884748534199218]\n"
     ]
    },
    {
     "data": {
      "text/plain": [
       "Text(0,0.5,'RMSLE')"
      ]
     },
     "execution_count": 79,
     "metadata": {},
     "output_type": "execute_result"
    },
    {
     "data": {
      "image/png": "[encoded data removed]",
      "text/plain": [
       "<matplotlib.figure.Figure at 0x10f9d7710>"
      ]
     },
     "metadata": {},
     "output_type": "display_data"
    }
   ],
   "source": [
    "# 2.3.2.4) L1 Regularization\n",
    "\n",
    "params_l1 = params = [0.0, 0.01, 0.1, 1.0, 10.0, 100.0]\n",
    "metrics_l1 = [evaluate(trainingData_linear, testData_linear, 3, 0.01, param, 'l1', False) for param in params_l1]\n",
    "\n",
    "print(params_l1)\n",
    "print(metrics_l1)\n",
    "\n",
    "# Plotting\n",
    "plot(params_l1, metrics_l1)\n",
    "plt.xlabel('L1 Regularization')\n",
    "plt.ylabel('RMSLE')\n"
   ]
  },
  {
   "cell_type": "code",
   "execution_count": 82,
   "metadata": {},
   "outputs": [
    {
     "name": "stdout",
     "output_type": "stream",
     "text": [
      "[0.0, 0.01, 0.1, 1.0, 5.0, 10.0]\n",
      "[148.44956842510899, 148.44956842510899, 148.44956842510899, 148.44956842510899, 148.44956842510899, 148.44956842510902]\n"
     ]
    },
    {
     "data": {
      "text/plain": [
       "Text(0,0.5,'RMSLE')"
      ]
     },
     "execution_count": 82,
     "metadata": {},
     "output_type": "execute_result"
    },
    {
     "data": {
      "image/png": "[encoded data removed]",
      "text/plain": [
       "<matplotlib.figure.Figure at 0x10fc2b470>"
      ]
     },
     "metadata": {},
     "output_type": "display_data"
    }
   ],
   "source": [
    "# 2.3.2.4) L2 Regularization\n",
    "\n",
    "params_l2 = params = [0.0, 0.01, 0.1, 1.0, 5.0, 10.0]\n",
    "metrics_l2 = [evaluate(trainingData_linear, testData_linear, 5, 0.01, param, 'l2', False) for param in params_l2]\n",
    "\n",
    "print(params_l2)\n",
    "print(metrics_l2)\n",
    "\n",
    "# Plotting\n",
    "plot(params_l2, metrics_l2)\n",
    "plt.xlabel('L2 Regularization')\n",
    "plt.ylabel('RMSLE')"
   ]
  },
  {
   "cell_type": "code",
   "execution_count": 17,
   "metadata": {},
   "outputs": [
    {
     "name": "stdout",
     "output_type": "stream",
     "text": [
      "LinearRegression Root Mean Squared Log Error: 148.3264\n",
      "LinearRegression - Mean Squared Error: 6383601835483873906576159338040712415169926956325985980251688671301791433332872461139826715110840477293166869265317180303926664237529123111567360.0000\n",
      "LinearRegression - Mean Absolute Error: 1070526403053328032556967594394421368909173562377140919628164074068508672.0000\n"
     ]
    }
   ],
   "source": [
    "# 2.3.3) Linear regression Log\n",
    "\n",
    "rmsle_lr = np.sqrt(labelsAndPredictions_linear.map(lambda lp: squared_log_error(lp[0], lp[1])).mean())\n",
    "mse_lr = labelsAndPredictions_linear.map(lambda lp: squared_error(lp[0], lp[1])).mean()\n",
    "mae_lr = labelsAndPredictions_linear.map(lambda lp: abs_error(lp[0], lp[1])).mean()\n",
    "\n",
    "print(\"LinearRegression Root Mean Squared Log Error: %2.4f\" % rmsle_lr)\n",
    "print(\"LinearRegression - Mean Squared Error: %2.4f\" % mse_lr)\n",
    "print(\"LinearRegression - Mean Absolute Error: %2.4f\" % mae_lr)"
   ]
  },
  {
   "cell_type": "code",
   "execution_count": null,
   "metadata": {},
   "outputs": [],
   "source": []
  }
 ],
 "metadata": {
  "kernelspec": {
   "display_name": "Python 3",
   "language": "python",
   "name": "python3"
  },
  "language_info": {
   "codemirror_mode": {
    "name": "ipython",
    "version": 3
   },
   "file_extension": ".py",
   "mimetype": "text/x-python",
   "name": "python",
   "nbconvert_exporter": "python",
   "pygments_lexer": "ipython3",
   "version": "3.6.2"
  }
 },
 "nbformat": 4,
 "nbformat_minor": 2
}
